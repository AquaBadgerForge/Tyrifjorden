{
 "cells": [
  {
   "cell_type": "code",
   "execution_count": 10,
   "id": "983b671f-1b5c-4163-b9dd-2ec667be73f4",
   "metadata": {},
   "outputs": [],
   "source": [
    "using Oceananigans\n",
    "using Oceananigans.Units\n",
    "using GLMakie\n",
    "using JLD2\n",
    "using NCDatasets"
   ]
  },
  {
   "cell_type": "code",
   "execution_count": 11,
   "id": "a34e5b74-bf35-4b36-a618-bcfde872d1d4",
   "metadata": {},
   "outputs": [],
   "source": [
    "using Oceananigans: architecture"
   ]
  },
  {
   "cell_type": "code",
   "execution_count": 12,
   "id": "e9e37fe2-24f3-4459-8e92-c7d1095c4ec2",
   "metadata": {},
   "outputs": [],
   "source": [
    "using DelimitedFiles, FileIO"
   ]
  },
  {
   "cell_type": "code",
   "execution_count": 13,
   "id": "adfb761a-1e0c-4051-ac0f-f374acd77a61",
   "metadata": {},
   "outputs": [],
   "source": [
    "using ClimaOcean"
   ]
  },
  {
   "cell_type": "code",
   "execution_count": 14,
   "id": "301dbf99-221a-45c0-8c69-3c558bf321ca",
   "metadata": {},
   "outputs": [],
   "source": [
    "using Oceananigans.Operators: ℑxyᶠᶜᵃ, ℑxyᶜᶠᵃ\n",
    "using Oceananigans.Operators: Δzᵃᵃᶜ"
   ]
  },
  {
   "cell_type": "code",
   "execution_count": 15,
   "id": "b37bb4c2-141e-4c9f-b517-ce0680c533d8",
   "metadata": {},
   "outputs": [],
   "source": [
    "using Statistics\n",
    "using JLD2\n",
    "using Printf\n",
    "using SeawaterPolynomials.TEOS10: TEOS10EquationOfState\n",
    "using CUDA: @allowscalar"
   ]
  },
  {
   "cell_type": "code",
   "execution_count": 165,
   "id": "49da2e11-397b-4e87-8be4-4ea815492c32",
   "metadata": {},
   "outputs": [],
   "source": [
    "using Interpolations"
   ]
  },
  {
   "cell_type": "code",
   "execution_count": 16,
   "id": "7917a6b8-d717-4d3b-bba6-11400e7a5aa9",
   "metadata": {},
   "outputs": [],
   "source": [
    "using SeawaterPolynomials.TEOS10"
   ]
  },
  {
   "cell_type": "code",
   "execution_count": 189,
   "id": "f34577ad-30e7-4ee4-9d2c-44d5fb316b17",
   "metadata": {},
   "outputs": [],
   "source": [
    "using CSV, DataFrames"
   ]
  },
  {
   "cell_type": "code",
   "execution_count": 17,
   "id": "8d6a958b-916d-498a-8719-c7ee654a376d",
   "metadata": {},
   "outputs": [
    {
     "data": {
      "text/plain": [
       "CPU()"
      ]
     },
     "execution_count": 17,
     "metadata": {},
     "output_type": "execute_result"
    }
   ],
   "source": [
    "arch = CPU()"
   ]
  },
  {
   "cell_type": "code",
   "execution_count": 141,
   "id": "50d84fab-5a72-41b0-bda2-fc8253c47079",
   "metadata": {},
   "outputs": [
    {
     "data": {
      "text/plain": [
       "21600.0"
      ]
     },
     "execution_count": 141,
     "metadata": {},
     "output_type": "execute_result"
    }
   ],
   "source": [
    "save_interval = 6hours"
   ]
  },
  {
   "cell_type": "markdown",
   "id": "dbb427a7-1016-4c95-ac14-b87f6cc6cb54",
   "metadata": {},
   "source": [
    "# Grid"
   ]
  },
  {
   "cell_type": "code",
   "execution_count": 238,
   "id": "73572474-c48c-40aa-93da-388008797827",
   "metadata": {},
   "outputs": [
    {
     "data": {
      "text/plain": [
       "34-element Vector{Float64}:\n",
       " -272.0\n",
       " -256.0\n",
       " -240.0\n",
       " -224.0\n",
       " -208.0\n",
       " -192.0\n",
       " -176.0\n",
       " -160.0\n",
       " -144.0\n",
       " -128.0\n",
       " -112.0\n",
       " -100.0\n",
       "  -92.0\n",
       "    ⋮\n",
       "  -26.0\n",
       "  -22.0\n",
       "  -19.0\n",
       "  -17.0\n",
       "  -15.0\n",
       "  -13.0\n",
       "  -11.0\n",
       "   -9.0\n",
       "   -7.0\n",
       "   -5.0\n",
       "   -3.0\n",
       "   -1.5"
      ]
     },
     "execution_count": 238,
     "metadata": {},
     "output_type": "execute_result"
    }
   ],
   "source": [
    "# z_levels = stretched_vertical_faces(depth = 300, \n",
    "#                              surface_layer_Δz = 2.5, \n",
    "#                              stretching = PowerLawStretching(1.090), \n",
    "#                              surface_layer_height = 30)\n",
    "# z-levels from Andre\n",
    "z_levels = -reverse([1, 2, 4, 6, 8, 10, 12, 14, 16, 18, 20, 24, 28, 32, 36, 40, 48, 56, 64, 72, 80, 88, 96, 104, 120, 136, 152, 168, 184, 200, 216, 232, 248, 264, 280])\n",
    "z_middle = -reverse([1.5, 3, 5, 7, 9, 11, 13, 15, 17, 19, 22, 26, 30, 34, 38, 44, 52, 60, 68, 76, 84, 92, 100, 112, 128, 144, 160, 176, 192, 208, 224, 240, 256, 272])"
   ]
  },
  {
   "cell_type": "code",
   "execution_count": 239,
   "id": "4439956b-4afd-4f33-898b-53c108428a8a",
   "metadata": {},
   "outputs": [],
   "source": [
    "writedlm( \"z-grid_Tyr.csv\",  z_levels, ',')"
   ]
  },
  {
   "cell_type": "code",
   "execution_count": 240,
   "id": "2a49ba92-2de1-44b6-a745-eb767c1451ad",
   "metadata": {},
   "outputs": [
    {
     "data": {
      "text/plain": [
       "34"
      ]
     },
     "execution_count": 240,
     "metadata": {},
     "output_type": "execute_result"
    }
   ],
   "source": [
    "Nx = 43\n",
    "Ny = 54\n",
    "Nz = length(z_levels)-1"
   ]
  },
  {
   "cell_type": "code",
   "execution_count": 241,
   "id": "c9c7b62e-556a-43c0-9b39-0065765fb8d6",
   "metadata": {},
   "outputs": [
    {
     "data": {
      "text/plain": [
       "500"
      ]
     },
     "execution_count": 241,
     "metadata": {},
     "output_type": "execute_result"
    }
   ],
   "source": [
    "dx = 500  # m\n",
    "dy = 500  # m"
   ]
  },
  {
   "cell_type": "code",
   "execution_count": 242,
   "id": "d487b648-4440-4094-aa94-9ceb1454a87d",
   "metadata": {},
   "outputs": [
    {
     "data": {
      "text/plain": [
       "43×54×34 RectilinearGrid{Float64, Bounded, Bounded, Bounded} on CPU with 7×7×7 halo\n",
       "├── Bounded  x ∈ [0.0, 21500.0] regularly spaced with Δx=500.0\n",
       "├── Bounded  y ∈ [0.0, 27000.0] regularly spaced with Δy=500.0\n",
       "└── Bounded  z ∈ [-280.0, -1.0] variably spaced with min(Δz)=1.0, max(Δz)=16.0"
      ]
     },
     "execution_count": 242,
     "metadata": {},
     "output_type": "execute_result"
    }
   ],
   "source": [
    "underlying_grid = RectilinearGrid(topology=(Bounded, Bounded, Bounded), size=(Nx, Ny, Nz),\n",
    "                                        x = (0, dx*Nx), y = (0, dy*Ny),\n",
    "                                        z = z_levels, halo=(7,7,7))"
   ]
  },
  {
   "cell_type": "code",
   "execution_count": 243,
   "id": "9f9cdf63-1a3d-47ab-9c5d-b4e61ea179bd",
   "metadata": {},
   "outputs": [
    {
     "data": {
      "text/plain": [
       "1-element Vector{Symbol}:\n",
       " :depth"
      ]
     },
     "execution_count": 243,
     "metadata": {},
     "output_type": "execute_result"
    }
   ],
   "source": [
    "@load \"bathymetry_Tyrifjord.jld2\" depth"
   ]
  },
  {
   "cell_type": "code",
   "execution_count": 244,
   "id": "dc801943-af28-47a2-8f50-5aac0aa6b8b7",
   "metadata": {},
   "outputs": [
    {
     "data": {
      "text/plain": [
       "43×54 Matrix{Float64}:\n",
       " 0.0    0.0       0.0        0.0     …   0.0       0.0      0.0  0.0\n",
       " 0.0    0.0       0.0        0.0         0.0       0.0      0.0  0.0\n",
       " 0.0    0.0       0.0        0.0         0.0       0.0      0.0  0.0\n",
       " 0.0    0.0       0.0        0.0         0.0       0.0      0.0  0.0\n",
       " 0.0    0.0       0.0        0.0         0.0       0.0      0.0  0.0\n",
       " 0.0    0.0       0.0        0.0     …   0.0       0.0      0.0  0.0\n",
       " 0.0    0.0       0.0        0.0         0.0       0.0      0.0  0.0\n",
       " 0.0    0.0       0.0        0.0         0.0       0.0      0.0  0.0\n",
       " 0.0    0.0       0.0        0.0         0.0       0.0      0.0  0.0\n",
       " 0.0    0.0       0.0        0.0         0.0       0.0      0.0  0.0\n",
       " 0.0    0.0       0.0        0.0     …   0.0       0.0      0.0  0.0\n",
       " 0.0    0.0       0.0        0.0         0.0       0.0      0.0  0.0\n",
       " 0.0    0.0       0.0        0.0         0.0       0.0      0.0  0.0\n",
       " ⋮                                   ⋱   ⋮                       \n",
       " 0.0    0.0       0.0        0.0         0.0       0.0      0.0  0.0\n",
       " 0.0    0.0       0.0        0.0         0.0       0.0      0.0  0.0\n",
       " 0.0  -29.2543  -53.7152   -74.6118      0.0       0.0      0.0  0.0\n",
       " 0.0  -42.5578  -85.3797  -127.341       0.0       0.0      0.0  0.0\n",
       " 0.0    0.0     -82.4001  -132.57    …   0.0       0.0      0.0  0.0\n",
       " 0.0    0.0       0.0      -94.1422      0.0       0.0      0.0  0.0\n",
       " 0.0    0.0       0.0        0.0         0.0       0.0      0.0  0.0\n",
       " 0.0    0.0       0.0        0.0         0.0       0.0      0.0  0.0\n",
       " 0.0    0.0       0.0        0.0         0.0       0.0      0.0  0.0\n",
       " 0.0    0.0       0.0        0.0     …  -5.21241   0.0      0.0  0.0\n",
       " 0.0    0.0       0.0        0.0        -5.62383  -2.75439  0.0  0.0\n",
       " 0.0    0.0       0.0        0.0         0.0       0.0      0.0  0.0"
      ]
     },
     "execution_count": 244,
     "metadata": {},
     "output_type": "execute_result"
    }
   ],
   "source": [
    "depth"
   ]
  },
  {
   "cell_type": "code",
   "execution_count": 245,
   "id": "f2af1717-a9fa-4444-ada6-4a45a6837f28",
   "metadata": {},
   "outputs": [
    {
     "data": {
      "text/plain": [
       "43×54×34 ImmersedBoundaryGrid{Float64, Bounded, Bounded, Bounded} on CPU with 7×7×7 halo:\n",
       "├── immersed_boundary: GridFittedBottom(mean(z)=-28.5432, min(z)=-280.0, max(z)=0.0)\n",
       "├── underlying_grid: 43×54×34 RectilinearGrid{Float64, Bounded, Bounded, Bounded} on CPU with 7×7×7 halo\n",
       "├── Bounded  x ∈ [0.0, 21500.0] regularly spaced with Δx=500.0\n",
       "├── Bounded  y ∈ [0.0, 27000.0] regularly spaced with Δy=500.0\n",
       "└── Bounded  z ∈ [-280.0, -1.0] variably spaced with min(Δz)=1.0, max(Δz)=16.0"
      ]
     },
     "execution_count": 245,
     "metadata": {},
     "output_type": "execute_result"
    }
   ],
   "source": [
    "grid = ImmersedBoundaryGrid(underlying_grid, GridFittedBottom(depth); active_cells_map = true)"
   ]
  },
  {
   "cell_type": "markdown",
   "id": "504d5b4b-33f6-41bb-9ea3-f3c53d3f588b",
   "metadata": {},
   "source": [
    "# Initial conditions"
   ]
  },
  {
   "cell_type": "code",
   "execution_count": 246,
   "id": "42132643-9bcd-431e-8dd6-ffe98d76a13d",
   "metadata": {},
   "outputs": [
    {
     "data": {
      "text/plain": [
       "19-element Vector{Float64}:\n",
       " -275.0\n",
       " -250.0\n",
       " -200.0\n",
       " -150.0\n",
       " -100.0\n",
       "  -50.0\n",
       "  -30.0\n",
       "  -20.0\n",
       "  -16.0\n",
       "  -12.0\n",
       "  -10.0\n",
       "   -9.0\n",
       "   -8.0\n",
       "   -6.0\n",
       "   -4.0\n",
       "   -3.0\n",
       "   -2.0\n",
       "   -1.0\n",
       "   -0.5"
      ]
     },
     "execution_count": 246,
     "metadata": {},
     "output_type": "execute_result"
    }
   ],
   "source": [
    "z_ini = -reverse([0.5, 1, 2, 3, 4, 6, 8, 9, 10, 12, 16, 20, 30, 50, 100, 150, 200, 250, 275])"
   ]
  },
  {
   "cell_type": "code",
   "execution_count": 247,
   "id": "4c477be8-3509-406c-9115-29a24248a4fb",
   "metadata": {},
   "outputs": [],
   "source": [
    "tprof = reverse([12.5, 12.5, 12.5, 12.5, 12.5, 12.5, 12.5, 12.5, 12.5, 12.5, 12.5, 10, 7, 5.1, 4.5, 4.25, 4.0, 3.9, 3.9])\n",
    "itp = LinearInterpolation(z_ini, tprof)\n",
    "tprof_target = itp(z_middle)\n",
    "\n",
    "T₀ = Array{Float64}(undef, Nx, Ny, Nz)\n",
    "for i = 1:Nx\n",
    "    for j = 1:Ny\n",
    "        T₀[i, j, :] = tprof_target\n",
    "    end\n",
    "end"
   ]
  },
  {
   "cell_type": "markdown",
   "id": "3a2f9d61-c2af-4b11-a53e-228d9c487c0f",
   "metadata": {},
   "source": [
    "# Physics"
   ]
  },
  {
   "cell_type": "code",
   "execution_count": 248,
   "id": "319870be-6dbb-4f13-ba15-552bc820e5de",
   "metadata": {},
   "outputs": [
    {
     "data": {
      "text/plain": [
       "(VerticalScalarDiffusivity{VerticallyImplicitTimeDiscretization}(ν=νz (generic function with 1 method), κ=1.0e-5), HorizontalScalarDiffusivity{ExplicitTimeDiscretization}(ν=1000.0, κ=0.0), ConvectiveAdjustmentVerticalDiffusivity{VerticallyImplicitTimeDiscretization}(background_κz=0.0 convective_κz=0.1 background_νz=0.0 convective_νz=0.0), IsopycnalSkewSymmetricDiffusivity: (κ_symmetric=900.0, κ_skew=900.0, (isopycnal_tensor=Oceananigans.TurbulenceClosures.SmallSlopeIsopycnalTensor{Float64}(0.0), slope_limiter=FluxTapering{Float64}(0.01)))"
      ]
     },
     "execution_count": 248,
     "metadata": {},
     "output_type": "execute_result"
    }
   ],
   "source": [
    "const surface_νz = 1e-2\n",
    "const background_νz = 1e-4\n",
    "const background_κz = 1e-5\n",
    "\n",
    "@inline νz(x, y, z, t) = ifelse(z > -30, surface_νz, background_νz)\n",
    "\n",
    "horizontal_viscosity = HorizontalScalarDiffusivity(ν=1e3)\n",
    "vertical_viscosity   = VerticalScalarDiffusivity(VerticallyImplicitTimeDiscretization(),\n",
    "                                                 ν=νz, κ=background_κz)\n",
    "convective_adjustment = ConvectiveAdjustmentVerticalDiffusivity(convective_κz=0.1)\n",
    "κ_skew = 900.0      # [m² s⁻¹] skew diffusivity\n",
    "κ_symmetric = 900.0 # [m² s⁻¹] symmetric diffusivity\n",
    "\n",
    "gent_mcwilliams_diffusivity = IsopycnalSkewSymmetricDiffusivity(; κ_skew, κ_symmetric,\n",
    "                                                                slope_limiter = FluxTapering(1e-2))\n",
    "\n",
    "    \n",
    "closure = (\n",
    "    vertical_viscosity,\n",
    "    horizontal_viscosity,\n",
    "    convective_adjustment,\n",
    "    gent_mcwilliams_diffusivity,\n",
    ")"
   ]
  },
  {
   "cell_type": "markdown",
   "id": "7d772aea-9422-4e4d-9f82-635b266fc85c",
   "metadata": {},
   "source": [
    "# Boundary conditions (u, v, T, S)"
   ]
  },
  {
   "cell_type": "code",
   "execution_count": 249,
   "id": "3586aff3-5883-47af-9009-be14dca1799e",
   "metadata": {},
   "outputs": [
    {
     "data": {
      "text/plain": [
       "0"
      ]
     },
     "execution_count": 249,
     "metadata": {},
     "output_type": "execute_result"
    }
   ],
   "source": [
    "reference_density        = 1000.0\n",
    "reference_heat_capacity  = 3991.0\n",
    "reference_salinity       = 0"
   ]
  },
  {
   "cell_type": "code",
   "execution_count": 93,
   "id": "41dd0b8b-3ed1-426d-b8b7-5646f1fbd6d7",
   "metadata": {
    "collapsed": true,
    "jupyter": {
     "outputs_hidden": true
    },
    "scrolled": true
   },
   "outputs": [
    {
     "name": "stderr",
     "output_type": "stream",
     "text": [
      "\u001b[36m\u001b[1m[ \u001b[22m\u001b[39m\u001b[36m\u001b[1mInfo: \u001b[22m\u001b[39mReading boundary conditions...\n",
      "\u001b[33m\u001b[1m┌ \u001b[22m\u001b[39m\u001b[33m\u001b[1mWarning: \u001b[22m\u001b[39mOpening file with JLD2.MmapIO failed, falling back to IOStream\n",
      "\u001b[33m\u001b[1m└ \u001b[22m\u001b[39m\u001b[90m@ JLD2 C:\\Users\\ABE\\.julia\\packages\\JLD2\\VWinU\\src\\JLD2.jl:300\u001b[39m\n"
     ]
    },
    {
     "ename": "LoadError",
     "evalue": "SystemError: opening file \"surface_boundary_conditions_360_150_75S_75N.jld2\": No such file or directory",
     "output_type": "error",
     "traceback": [
      "SystemError: opening file \"surface_boundary_conditions_360_150_75S_75N.jld2\": No such file or directory",
      "",
      "Stacktrace:",
      "  [1] systemerror(p::String, errno::Int32; extrainfo::Nothing)",
      "    @ Base .\\error.jl:176",
      "  [2] systemerror",
      "    @ .\\error.jl:176",
      "  [3] systemerror",
      "    @ .\\error.jl:175 [inlined]",
      "  [4] open(fname::String; lock::Bool, read::Bool, write::Bool, create::Bool, truncate::Bool, append::Bool)",
      "    @ Base .\\iostream.jl:293",
      "  [5] open",
      "    @ .\\iostream.jl:275 [inlined]",
      "  [6] openfile",
      "    @ C:\\Users\\ABE\\.julia\\packages\\JLD2\\VWinU\\src\\JLD2.jl:290 [inlined]",
      "  [7] openfile(T::Type, fname::String, wr::Bool, create::Bool, truncate::Bool, fallback::Type)",
      "    @ JLD2 C:\\Users\\ABE\\.julia\\packages\\JLD2\\VWinU\\src\\JLD2.jl:301",
      "  [8] jldopen(fname::String, wr::Bool, create::Bool, truncate::Bool, iotype::Type{JLD2.MmapIO}; fallback::Type{IOStream}, compress::Bool, mmaparrays::Bool, typemap::Dict{String, Any}, parallel_read::Bool)",
      "    @ JLD2 C:\\Users\\ABE\\.julia\\packages\\JLD2\\VWinU\\src\\JLD2.jl:368",
      "  [9] jldopen",
      "    @ C:\\Users\\ABE\\.julia\\packages\\JLD2\\VWinU\\src\\JLD2.jl:314 [inlined]",
      " [10] #jldopen#14",
      "    @ C:\\Users\\ABE\\.julia\\packages\\JLD2\\VWinU\\src\\JLD2.jl:457 [inlined]",
      " [11] jldopen",
      "    @ C:\\Users\\ABE\\.julia\\packages\\JLD2\\VWinU\\src\\JLD2.jl:451 [inlined]",
      " [12] jldopen(fname::String)",
      "    @ JLD2 C:\\Users\\ABE\\.julia\\packages\\JLD2\\VWinU\\src\\JLD2.jl:451",
      " [13] top-level scope",
      "    @ In[93]:3"
     ]
    }
   ],
   "source": [
    "# Files contain 12 arrays of monthly-averaged data from 1992\n",
    "# @info \"Reading boundary conditions...\"; start=time_ns()\n",
    "# boundary_conditions_file = jldopen(\"surface_boundary_conditions_360_150_75S_75N.jld2\")\n",
    "# τˣ = - boundary_conditions_file[\"τˣ\"] ./ reference_density\n",
    "# τʸ = - boundary_conditions_file[\"τʸ\"] ./ reference_density"
   ]
  },
  {
   "cell_type": "code",
   "execution_count": null,
   "id": "c04e3848-dd0b-477a-bfee-4c1c2f2ea16b",
   "metadata": {},
   "outputs": [],
   "source": [
    "# Convert boundary conditions arrays to GPU (CPU here)\n",
    "# τˣ = on_architecture(arch, τˣ)\n",
    "# τʸ = on_architecture(arch, τʸ)"
   ]
  },
  {
   "cell_type": "markdown",
   "id": "c0aba4a7-5fbf-45d5-944c-647dc5d53b51",
   "metadata": {},
   "source": [
    "### Wind stress\n",
    "https://en.wikipedia.org/wiki/Wind_stress"
   ]
  },
  {
   "cell_type": "code",
   "execution_count": 257,
   "id": "6126dad1-c74f-483d-99b7-c3d4fe3008bb",
   "metadata": {},
   "outputs": [
    {
     "data": {
      "text/plain": [
       "1.225"
      ]
     },
     "execution_count": 257,
     "metadata": {},
     "output_type": "execute_result"
    }
   ],
   "source": [
    "Cd = 0.0025  # 0.0015\n",
    "ρₐᵢᵣ = 1.225"
   ]
  },
  {
   "cell_type": "code",
   "execution_count": null,
   "id": "06d8282e-e9d0-479d-99a4-e3410e4cf6f7",
   "metadata": {},
   "outputs": [],
   "source": []
  },
  {
   "cell_type": "code",
   "execution_count": null,
   "id": "19ba1d88-3cd0-4f48-b33b-050182c88624",
   "metadata": {},
   "outputs": [],
   "source": [
    "# 8760-element"
   ]
  },
  {
   "cell_type": "code",
   "execution_count": 258,
   "id": "67324e11-4bff-49d1-b979-c52217ca94d0",
   "metadata": {},
   "outputs": [
    {
     "data": {
      "text/plain": [
       "12"
      ]
     },
     "execution_count": 258,
     "metadata": {},
     "output_type": "execute_result"
    }
   ],
   "source": [
    "# Ntimes = 8760\n",
    "Ntimes = 12"
   ]
  },
  {
   "cell_type": "code",
   "execution_count": 252,
   "id": "4f0eb92e-1038-483a-a009-de7da2ac91e8",
   "metadata": {
    "scrolled": true
   },
   "outputs": [],
   "source": [
    "# uwind = 10\n",
    "# vwind = 8\n",
    "# uwind = [10, 0, 0, 0, 0, 0, 0, 0, 0, 0, 0, 0]\n",
    "# vwind = [8, 0, 0, 0, 0, 0, 0, 0, 0, 0, 0, 0]"
   ]
  },
  {
   "cell_type": "code",
   "execution_count": 259,
   "id": "42768b15-42d2-48eb-9e27-20420ed5f0d0",
   "metadata": {
    "scrolled": true
   },
   "outputs": [
    {
     "data": {
      "text/plain": [
       "12-element Vector{Float64}:\n",
       "  1.3\n",
       " -1.4\n",
       " -3.0\n",
       "  1.2\n",
       "  1.6\n",
       "  3.4\n",
       "  1.2\n",
       " -1.6\n",
       " -1.2\n",
       " -1.7\n",
       " -2.2\n",
       " -2.6"
      ]
     },
     "execution_count": 259,
     "metadata": {},
     "output_type": "execute_result"
    }
   ],
   "source": [
    "uwind = [1, -0.6, 1.1, -0.8, -0.3, -1.5, -0.2, -0.8, -0.1, 0.9, 1.3, 1.3]\n",
    "vwind = [1.3, -1.4, -3.0, 1.2, 1.6, 3.4, 1.2, -1.6, -1.2, -1.7, -2.2, -2.6]"
   ]
  },
  {
   "cell_type": "code",
   "execution_count": 217,
   "id": "56468754-efc3-4323-99eb-0a8088a0c251",
   "metadata": {},
   "outputs": [],
   "source": [
    "# df = CSV.read(\"atm/wind2023_1h.csv\", DataFrame)\n",
    "# uwind = df.u\n",
    "# vwind = df.v"
   ]
  },
  {
   "cell_type": "code",
   "execution_count": 260,
   "id": "aafc0665-c7f9-440c-b5fb-e6a6fab93012",
   "metadata": {},
   "outputs": [],
   "source": [
    "τˣ = Array{Float64}(undef, Nx, Ny, Ntimes)\n",
    "τʸ = Array{Float64}(undef, Nx, Ny, Ntimes)\n",
    "for i = 1:Nx\n",
    "    for j = 1:Ny\n",
    "        τˣ[i, j, :] = ρₐᵢᵣ*Cd.*(uwind.^2)./reference_density\n",
    "        τʸ[i, j, :] = -ρₐᵢᵣ*Cd.*(vwind.^2)./reference_density\n",
    "    end\n",
    "end"
   ]
  },
  {
   "cell_type": "code",
   "execution_count": 262,
   "id": "dc233efc-3936-4453-af00-ef89596e2d3b",
   "metadata": {},
   "outputs": [
    {
     "data": {
      "text/plain": [
       "6.890625e-6"
      ]
     },
     "execution_count": 262,
     "metadata": {},
     "output_type": "execute_result"
    }
   ],
   "source": [
    "maximum(τˣ)"
   ]
  },
  {
   "cell_type": "code",
   "execution_count": 195,
   "id": "6c73b6f0-0417-465b-b43f-f7ccbb27ec10",
   "metadata": {
    "collapsed": true,
    "jupyter": {
     "outputs_hidden": true
    },
    "scrolled": true
   },
   "outputs": [
    {
     "ename": "LoadError",
     "evalue": "MethodError: no method matching ^(::Vector{Float64}, ::Int64)\n\n\u001b[0mClosest candidates are:\n\u001b[0m  ^(::Any, ::Any, \u001b[91m::Any\u001b[39m, \u001b[91m::Oceananigans.Grids.AbstractGrid\u001b[39m, \u001b[91m::Any\u001b[39m, \u001b[91m::Any\u001b[39m, \u001b[91m::Oceananigans.AbstractOperations.BinaryOperation\u001b[39m, \u001b[91m::Oceananigans.AbstractOperations.BinaryOperation\u001b[39m)\n\u001b[0m\u001b[90m   @\u001b[39m \u001b[33mOceananigans\u001b[39m \u001b[90mC:\\Users\\ABE\\.julia\\packages\\Oceananigans\\E4XVr\\src\\AbstractOperations\\\u001b[39m\u001b[90m\u001b[4mbinary_operations.jl:68\u001b[24m\u001b[39m\n\u001b[0m  ^(::Any, ::Any, \u001b[91m::Any\u001b[39m, \u001b[91m::Oceananigans.Grids.AbstractGrid\u001b[39m, \u001b[91m::Any\u001b[39m, \u001b[91m::Any\u001b[39m, \u001b[91m::Oceananigans.AbstractOperations.BinaryOperation\u001b[39m, \u001b[91m::Oceananigans.Fields.AbstractField\u001b[39m)\n\u001b[0m\u001b[90m   @\u001b[39m \u001b[33mOceananigans\u001b[39m \u001b[90mC:\\Users\\ABE\\.julia\\packages\\Oceananigans\\E4XVr\\src\\AbstractOperations\\\u001b[39m\u001b[90m\u001b[4mbinary_operations.jl:74\u001b[24m\u001b[39m\n\u001b[0m  ^(::Any, ::Any, \u001b[91m::Any\u001b[39m, \u001b[91m::Oceananigans.Grids.AbstractGrid\u001b[39m, \u001b[91m::Any\u001b[39m, \u001b[91m::Any\u001b[39m, \u001b[91m::Oceananigans.Fields.AbstractField\u001b[39m, \u001b[91m::Oceananigans.AbstractOperations.BinaryOperation\u001b[39m)\n\u001b[0m\u001b[90m   @\u001b[39m \u001b[33mOceananigans\u001b[39m \u001b[90mC:\\Users\\ABE\\.julia\\packages\\Oceananigans\\E4XVr\\src\\AbstractOperations\\\u001b[39m\u001b[90m\u001b[4mbinary_operations.jl:79\u001b[24m\u001b[39m\n\u001b[0m  ...\n",
     "output_type": "error",
     "traceback": [
      "MethodError: no method matching ^(::Vector{Float64}, ::Int64)\n\n\u001b[0mClosest candidates are:\n\u001b[0m  ^(::Any, ::Any, \u001b[91m::Any\u001b[39m, \u001b[91m::Oceananigans.Grids.AbstractGrid\u001b[39m, \u001b[91m::Any\u001b[39m, \u001b[91m::Any\u001b[39m, \u001b[91m::Oceananigans.AbstractOperations.BinaryOperation\u001b[39m, \u001b[91m::Oceananigans.AbstractOperations.BinaryOperation\u001b[39m)\n\u001b[0m\u001b[90m   @\u001b[39m \u001b[33mOceananigans\u001b[39m \u001b[90mC:\\Users\\ABE\\.julia\\packages\\Oceananigans\\E4XVr\\src\\AbstractOperations\\\u001b[39m\u001b[90m\u001b[4mbinary_operations.jl:68\u001b[24m\u001b[39m\n\u001b[0m  ^(::Any, ::Any, \u001b[91m::Any\u001b[39m, \u001b[91m::Oceananigans.Grids.AbstractGrid\u001b[39m, \u001b[91m::Any\u001b[39m, \u001b[91m::Any\u001b[39m, \u001b[91m::Oceananigans.AbstractOperations.BinaryOperation\u001b[39m, \u001b[91m::Oceananigans.Fields.AbstractField\u001b[39m)\n\u001b[0m\u001b[90m   @\u001b[39m \u001b[33mOceananigans\u001b[39m \u001b[90mC:\\Users\\ABE\\.julia\\packages\\Oceananigans\\E4XVr\\src\\AbstractOperations\\\u001b[39m\u001b[90m\u001b[4mbinary_operations.jl:74\u001b[24m\u001b[39m\n\u001b[0m  ^(::Any, ::Any, \u001b[91m::Any\u001b[39m, \u001b[91m::Oceananigans.Grids.AbstractGrid\u001b[39m, \u001b[91m::Any\u001b[39m, \u001b[91m::Any\u001b[39m, \u001b[91m::Oceananigans.Fields.AbstractField\u001b[39m, \u001b[91m::Oceananigans.AbstractOperations.BinaryOperation\u001b[39m)\n\u001b[0m\u001b[90m   @\u001b[39m \u001b[33mOceananigans\u001b[39m \u001b[90mC:\\Users\\ABE\\.julia\\packages\\Oceananigans\\E4XVr\\src\\AbstractOperations\\\u001b[39m\u001b[90m\u001b[4mbinary_operations.jl:79\u001b[24m\u001b[39m\n\u001b[0m  ...\n",
      "",
      "Stacktrace:",
      " [1] literal_pow(f::typeof(^), x::Vector{Float64}, ::Val{2})",
      "   @ Base .\\intfuncs.jl:351",
      " [2] top-level scope",
      "   @ In[195]:1"
     ]
    }
   ],
   "source": [
    "# τˣ = ρₐᵢᵣ*Cd*(uwind^2)/reference_density\n",
    "# τʸ = -ρₐᵢᵣ*Cd*(vwind^2)/reference_density"
   ]
  },
  {
   "cell_type": "markdown",
   "id": "6d5334b7-a220-4350-8c80-9369ba8ad9a5",
   "metadata": {},
   "source": [
    "## Time-dependent fluxes"
   ]
  },
  {
   "cell_type": "code",
   "execution_count": 197,
   "id": "ee91b699-1452-4850-98dd-d31a281384b8",
   "metadata": {},
   "outputs": [
    {
     "data": {
      "text/plain": [
       "surface_wind_stress (generic function with 1 method)"
      ]
     },
     "execution_count": 197,
     "metadata": {},
     "output_type": "execute_result"
    }
   ],
   "source": [
    "# const Nyears = 1.0\n",
    "# const Nhours = 1.0  # Only one hour, but we're working with fractions of it\n",
    "# const seconds_in_hour = 3600  # Number of seconds in an hour\n",
    "\n",
    "# # Inline functions for cyclic time indexing within an hour\n",
    "# @inline current_time_index(time, tot_seconds) = mod(unsafe_trunc(Int32, time), tot_seconds) + 1\n",
    "# @inline next_time_index(time, tot_seconds) = mod(unsafe_trunc(Int32, time) + 1, tot_seconds) + 1\n",
    "# @inline cyclic_interpolate(u₁::Number, u₂, time) = u₁ + mod(time, 1) * (u₂ - u₁)\n",
    "\n",
    "# # Assuming Δzᵃᵃᶜ and other grid and fields setup remains the same\n",
    "# Δz_top = @allowscalar Δzᵃᵃᶜ(1, 1, grid.Nz, grid.underlying_grid)\n",
    "# Δz_bottom = @allowscalar Δzᵃᵃᶜ(1, 1, 1, grid.underlying_grid)\n",
    "\n",
    "# @inline function surface_wind_stress(i, j, grid, clock, fields, τ)\n",
    "#     time = clock.time  # Assuming `time` is now given in seconds within the current hour\n",
    "#     n₁ = current_time_index(time, seconds_in_hour)\n",
    "#     n₂ = next_time_index(time, seconds_in_hour)\n",
    "\n",
    "#     @inbounds begin\n",
    "#         τ₁ = τ[i, j, n₁]\n",
    "#         τ₂ = τ[i, j, n₂]\n",
    "#     end\n",
    "\n",
    "#     return cyclic_interpolate(τ₁, τ₂, time / seconds_in_hour)\n",
    "# end\n"
   ]
  },
  {
   "cell_type": "code",
   "execution_count": 197,
   "id": "cc1c0b6e-ba45-46f9-b43a-4b8cc88a7334",
   "metadata": {},
   "outputs": [
    {
     "data": {
      "text/plain": [
       "surface_wind_stress (generic function with 1 method)"
      ]
     },
     "execution_count": 197,
     "metadata": {},
     "output_type": "execute_result"
    }
   ],
   "source": [
    "# const Nyears = 1.0\n",
    "# const Nhours = 1.0  # Only one hour, but we're working with fractions of it\n",
    "# const seconds_in_hour = 3600  # Number of seconds in an hour\n",
    "\n",
    "# # Inline functions for cyclic time indexing within an hour\n",
    "# @inline current_time_index(time, tot_seconds) = mod(unsafe_trunc(Int32, time), tot_seconds) + 1\n",
    "# @inline next_time_index(time, tot_seconds) = mod(unsafe_trunc(Int32, time) + 1, tot_seconds) + 1\n",
    "# @inline cyclic_interpolate(u₁::Number, u₂, time) = u₁ + mod(time, 1) * (u₂ - u₁)\n",
    "\n",
    "# # Assuming Δzᵃᵃᶜ and other grid and fields setup remains the same\n",
    "# Δz_top = @allowscalar Δzᵃᵃᶜ(1, 1, grid.Nz, grid.underlying_grid)\n",
    "# Δz_bottom = @allowscalar Δzᵃᵃᶜ(1, 1, 1, grid.underlying_grid)\n",
    "\n",
    "# @inline function surface_wind_stress(i, j, grid, clock, fields, τ)\n",
    "#     time = clock.time  # Assuming `time` is now given in seconds within the current hour\n",
    "#     n₁ = current_time_index(time, seconds_in_hour)\n",
    "#     n₂ = next_time_index(time, seconds_in_hour)\n",
    "\n",
    "#     @inbounds begin\n",
    "#         τ₁ = τ[i, j, n₁]\n",
    "#         τ₂ = τ[i, j, n₂]\n",
    "#     end\n",
    "\n",
    "#     return cyclic_interpolate(τ₁, τ₂, time / seconds_in_hour)\n",
    "# end\n"
   ]
  },
  {
   "cell_type": "code",
   "execution_count": 263,
   "id": "8ac479cc-159a-4739-a520-379cd16192b7",
   "metadata": {},
   "outputs": [
    {
     "data": {
      "text/plain": [
       "surface_wind_stress (generic function with 1 method)"
      ]
     },
     "execution_count": 263,
     "metadata": {},
     "output_type": "execute_result"
    }
   ],
   "source": [
    "##### Boundary conditions / time-dependent fluxes \n",
    "\n",
    "const Nyears = 1.0\n",
    "const Nmonths = 12\n",
    "const thirty_days = 30days\n",
    "\n",
    "@inline current_time_index(time, tot_months) = mod(unsafe_trunc(Int32, time / thirty_days), tot_months) + 1\n",
    "@inline next_time_index(time, tot_months) = mod(unsafe_trunc(Int32, time / thirty_days) + 1, tot_months) + 1\n",
    "@inline cyclic_interpolate(u₁::Number, u₂, time) = u₁ + mod(time / thirty_days, 1) * (u₂ - u₁)\n",
    "\n",
    "Δz_top = @allowscalar Δzᵃᵃᶜ(1, 1, grid.Nz, grid.underlying_grid)\n",
    "Δz_bottom = @allowscalar Δzᵃᵃᶜ(1, 1, 1, grid.underlying_grid)\n",
    "\n",
    "@inline function surface_wind_stress(i, j, grid, clock, fields, τ)\n",
    "    time = clock.time\n",
    "    n₁ = current_time_index(time, Nmonths)\n",
    "    n₂ = next_time_index(time, Nmonths)\n",
    "\n",
    "    @inbounds begin  # inbounds for faster performance, doesn't check the boundaries of the array\n",
    "        τ₁ = τ[i, j, n₁]\n",
    "        τ₂ = τ[i, j, n₂]\n",
    "    end\n",
    "\n",
    "    return cyclic_interpolate(τ₁, τ₂, time)\n",
    "end"
   ]
  },
  {
   "cell_type": "markdown",
   "id": "6f88c635-3ed3-422c-b097-42c09435040b",
   "metadata": {},
   "source": [
    "## Bottom drag"
   ]
  },
  {
   "cell_type": "code",
   "execution_count": 264,
   "id": "1792808c-446f-4666-816c-68464351687a",
   "metadata": {},
   "outputs": [
    {
     "name": "stderr",
     "output_type": "stream",
     "text": [
      "\u001b[33m\u001b[1m┌ \u001b[22m\u001b[39m\u001b[33m\u001b[1mWarning: \u001b[22m\u001b[39m`ImmersedBoundaryCondition` is experimental.\n",
      "\u001b[33m\u001b[1m└ \u001b[22m\u001b[39m\u001b[90m@ Oceananigans.ImmersedBoundaries C:\\Users\\ABE\\.julia\\packages\\Oceananigans\\E4XVr\\src\\ImmersedBoundaries\\immersed_boundary_condition.jl:59\u001b[39m\n",
      "\u001b[33m\u001b[1m┌ \u001b[22m\u001b[39m\u001b[33m\u001b[1mWarning: \u001b[22m\u001b[39m`ImmersedBoundaryCondition` is experimental.\n",
      "\u001b[33m\u001b[1m└ \u001b[22m\u001b[39m\u001b[90m@ Oceananigans.ImmersedBoundaries C:\\Users\\ABE\\.julia\\packages\\Oceananigans\\E4XVr\\src\\ImmersedBoundaries\\immersed_boundary_condition.jl:59\u001b[39m\n"
     ]
    },
    {
     "data": {
      "text/plain": [
       "ImmersedBoundaryCondition:\n",
       "├── west: ValueBoundaryCondition: 0\n",
       "├── east: ValueBoundaryCondition: 0\n",
       "├── south: ValueBoundaryCondition: 0\n",
       "├── north: ValueBoundaryCondition: 0\n",
       "├── bottom: FluxBoundaryCondition: DiscreteBoundaryFunction v_immersed_bottom_drag with parameters 0.003\n",
       "└── top: Nothing"
      ]
     },
     "execution_count": 264,
     "metadata": {},
     "output_type": "execute_result"
    }
   ],
   "source": [
    "Δz_top = @allowscalar grid.Δzᵃᵃᶜ[Nz]\n",
    "\n",
    "# Linear bottom drag:\n",
    "μ = 0.003 # Non dimensional\n",
    "\n",
    "@inline speedᶠᶜᶜ(i, j, k, grid, fields) = @inbounds sqrt(fields.u[i, j, k]^2 + ℑxyᶠᶜᵃ(i, j, k, grid, fields.v)^2)\n",
    "@inline speedᶜᶠᶜ(i, j, k, grid, fields) = @inbounds sqrt(fields.v[i, j, k]^2 + ℑxyᶜᶠᵃ(i, j, k, grid, fields.u)^2)\n",
    "\n",
    "@inline u_bottom_drag(i, j, grid, clock, fields, μ) = @inbounds - μ * fields.u[i, j, 1] * speedᶠᶜᶜ(i, j, 1, grid, fields)\n",
    "@inline v_bottom_drag(i, j, grid, clock, fields, μ) = @inbounds - μ * fields.v[i, j, 1] * speedᶜᶠᶜ(i, j, 1, grid, fields)\n",
    "\n",
    "@inline u_immersed_bottom_drag(i, j, k, grid, clock, fields, μ) = @inbounds - μ * fields.u[i, j, k] * speedᶠᶜᶜ(i, j, k, grid, fields)\n",
    "@inline v_immersed_bottom_drag(i, j, k, grid, clock, fields, μ) = @inbounds - μ * fields.v[i, j, k] * speedᶜᶠᶜ(i, j, k, grid, fields)\n",
    "\n",
    "drag_u = FluxBoundaryCondition(u_immersed_bottom_drag, discrete_form=true, parameters = μ)\n",
    "drag_v = FluxBoundaryCondition(v_immersed_bottom_drag, discrete_form=true, parameters = μ)\n",
    "\n",
    "no_slip_bc = ValueBoundaryCondition(0)\n",
    "\n",
    "u_immersed_bc = ImmersedBoundaryCondition(bottom = drag_u,\n",
    "                                          west = no_slip_bc,\n",
    "                                          east = no_slip_bc,\n",
    "                                          south = no_slip_bc,\n",
    "                                          north = no_slip_bc)\n",
    "\n",
    "v_immersed_bc = ImmersedBoundaryCondition(bottom = drag_v,\n",
    "                                          west = no_slip_bc,\n",
    "                                          east = no_slip_bc,\n",
    "                                          south = no_slip_bc,\n",
    "                                          north = no_slip_bc)"
   ]
  },
  {
   "cell_type": "markdown",
   "id": "0a0dc8dc-9c62-45e6-bf69-0e48a781c301",
   "metadata": {},
   "source": [
    "## Constructing BC"
   ]
  },
  {
   "cell_type": "code",
   "execution_count": 265,
   "id": "f40b1599-5bd8-4b16-80b7-653d1078ee69",
   "metadata": {},
   "outputs": [],
   "source": [
    "u_bottom_drag_bc = FluxBoundaryCondition(u_bottom_drag, discrete_form = true, parameters = μ)\n",
    "v_bottom_drag_bc = FluxBoundaryCondition(v_bottom_drag, discrete_form = true, parameters = μ)\n",
    "\n",
    "u_wind_stress_bc = FluxBoundaryCondition(surface_wind_stress, discrete_form = true, parameters = τˣ);\n",
    "v_wind_stress_bc = FluxBoundaryCondition(surface_wind_stress, discrete_form = true, parameters = τʸ);"
   ]
  },
  {
   "cell_type": "code",
   "execution_count": 266,
   "id": "e30aaa07-3e48-414a-aa72-9e2ccdb1279a",
   "metadata": {},
   "outputs": [
    {
     "data": {
      "text/plain": [
       "Oceananigans.FieldBoundaryConditions, with boundary conditions\n",
       "├── west: DefaultBoundaryCondition (FluxBoundaryCondition: Nothing)\n",
       "├── east: DefaultBoundaryCondition (FluxBoundaryCondition: Nothing)\n",
       "├── south: DefaultBoundaryCondition (FluxBoundaryCondition: Nothing)\n",
       "├── north: DefaultBoundaryCondition (FluxBoundaryCondition: Nothing)\n",
       "├── bottom: FluxBoundaryCondition: DiscreteBoundaryFunction v_bottom_drag with parameters 0.003\n",
       "├── top: FluxBoundaryCondition: DiscreteBoundaryFunction surface_wind_stress with parameters 43×54×12 Array{Float64, 3}\n",
       "└── immersed: ImmersedBoundaryCondition with west=Value, east=Value, south=Value, north=Value, bottom=Flux, top=Nothing"
      ]
     },
     "execution_count": 266,
     "metadata": {},
     "output_type": "execute_result"
    }
   ],
   "source": [
    "u_bcs = FieldBoundaryConditions(top = u_wind_stress_bc,\n",
    "                                bottom = u_bottom_drag_bc,\n",
    "                                immersed = u_immersed_bc)\n",
    "\n",
    "v_bcs = FieldBoundaryConditions(top = v_wind_stress_bc,\n",
    "                                bottom = v_bottom_drag_bc,\n",
    "                                immersed = v_immersed_bc)"
   ]
  },
  {
   "cell_type": "code",
   "execution_count": 267,
   "id": "d0c6a357-30cf-4770-aff3-c4267d2a3be7",
   "metadata": {},
   "outputs": [
    {
     "data": {
      "text/plain": [
       "(u = Oceananigans.FieldBoundaryConditions, with boundary conditions\n",
       "├── west: DefaultBoundaryCondition (FluxBoundaryCondition: Nothing)\n",
       "├── east: DefaultBoundaryCondition (FluxBoundaryCondition: Nothing)\n",
       "├── south: DefaultBoundaryCondition (FluxBoundaryCondition: Nothing)\n",
       "├── north: DefaultBoundaryCondition (FluxBoundaryCondition: Nothing)\n",
       "├── bottom: FluxBoundaryCondition: DiscreteBoundaryFunction u_bottom_drag with parameters 0.003\n",
       "├── top: FluxBoundaryCondition: DiscreteBoundaryFunction surface_wind_stress with parameters 43×54×12 Array{Float64, 3}\n",
       "└── immersed: ImmersedBoundaryCondition with west=Value, east=Value, south=Value, north=Value, bottom=Flux, top=Nothing, v = Oceananigans.FieldBoundaryConditions, with boundary conditions\n",
       "├── west: DefaultBoundaryCondition (FluxBoundaryCondition: Nothing)\n",
       "├── east: DefaultBoundaryCondition (FluxBoundaryCondition: Nothing)\n",
       "├── south: DefaultBoundaryCondition (FluxBoundaryCondition: Nothing)\n",
       "├── north: DefaultBoundaryCondition (FluxBoundaryCondition: Nothing)\n",
       "├── bottom: FluxBoundaryCondition: DiscreteBoundaryFunction v_bottom_drag with parameters 0.003\n",
       "├── top: FluxBoundaryCondition: DiscreteBoundaryFunction surface_wind_stress with parameters 43×54×12 Array{Float64, 3}\n",
       "└── immersed: ImmersedBoundaryCondition with west=Value, east=Value, south=Value, north=Value, bottom=Flux, top=Nothing)"
      ]
     },
     "execution_count": 267,
     "metadata": {},
     "output_type": "execute_result"
    }
   ],
   "source": [
    "boundary_conditions = (u=u_bcs, v=v_bcs)"
   ]
  },
  {
   "cell_type": "markdown",
   "id": "d8cdb647-7ea0-43f5-98a4-0354e9d83a01",
   "metadata": {},
   "source": [
    "File Nx*Ny with athmospheric forcing"
   ]
  },
  {
   "cell_type": "markdown",
   "id": "e6a8d001-45bb-4563-8d0d-44c6f5269c76",
   "metadata": {},
   "source": [
    "# Model"
   ]
  },
  {
   "cell_type": "code",
   "execution_count": 268,
   "id": "642c3bc0-3ecd-4628-ba07-b5a3ea8525dd",
   "metadata": {
    "scrolled": true
   },
   "outputs": [
    {
     "name": "stderr",
     "output_type": "stream",
     "text": [
      "\u001b[33m\u001b[1m┌ \u001b[22m\u001b[39m\u001b[33m\u001b[1mWarning: \u001b[22m\u001b[39m`ImmersedBoundaryCondition` is experimental.\n",
      "\u001b[33m\u001b[1m└ \u001b[22m\u001b[39m\u001b[90m@ Oceananigans.ImmersedBoundaries C:\\Users\\ABE\\.julia\\packages\\Oceananigans\\E4XVr\\src\\ImmersedBoundaries\\immersed_boundary_condition.jl:59\u001b[39m\n",
      "\u001b[33m\u001b[1m┌ \u001b[22m\u001b[39m\u001b[33m\u001b[1mWarning: \u001b[22m\u001b[39m`ImmersedBoundaryCondition` is experimental.\n",
      "\u001b[33m\u001b[1m└ \u001b[22m\u001b[39m\u001b[90m@ Oceananigans.ImmersedBoundaries C:\\Users\\ABE\\.julia\\packages\\Oceananigans\\E4XVr\\src\\ImmersedBoundaries\\immersed_boundary_condition.jl:59\u001b[39m\n"
     ]
    },
    {
     "data": {
      "text/plain": [
       "HydrostaticFreeSurfaceModel{CPU, ImmersedBoundaryGrid}(time = 0 seconds, iteration = 0)\n",
       "├── grid: 43×54×34 ImmersedBoundaryGrid{Float64, Bounded, Bounded, Bounded} on CPU with 7×7×7 halo\n",
       "├── timestepper: QuasiAdamsBashforth2TimeStepper\n",
       "├── tracers: (T, b)\n",
       "├── closure: Tuple with 4 closures:\n",
       "│   ├── VerticalScalarDiffusivity{VerticallyImplicitTimeDiscretization}(ν=νz (generic function with 1 method), κ=(T=1.0e-5, b=1.0e-5))\n",
       "│   ├── HorizontalScalarDiffusivity{ExplicitTimeDiscretization}(ν=1000.0, κ=(T=0.0, b=0.0))\n",
       "│   ├── ConvectiveAdjustmentVerticalDiffusivity{VerticallyImplicitTimeDiscretization}(background_κz=0.0 convective_κz=0.1 background_νz=0.0 convective_νz=0.0)\n",
       "│   └── IsopycnalSkewSymmetricDiffusivity(κ_skew=900.0, κ_symmetric=900.0)\n",
       "├── buoyancy: BuoyancyTracer with ĝ = NegativeZDirection()\n",
       "├── free surface: ImplicitFreeSurface with gravitational acceleration 9.80665 m s⁻²\n",
       "│   └── solver: MatrixImplicitFreeSurfaceSolver\n",
       "└── coriolis: Nothing"
      ]
     },
     "execution_count": 268,
     "metadata": {},
     "output_type": "execute_result"
    }
   ],
   "source": [
    "model = HydrostaticFreeSurfaceModel(; grid,\n",
    "                                    closure,\n",
    "                                    buoyancy=BuoyancyTracer(),\n",
    "                                    boundary_conditions,\n",
    "                                    momentum_advection = VectorInvariant(), \n",
    "                                    tracer_advection = WENO(underlying_grid),\n",
    "                                    tracers = (:T, :b))"
   ]
  },
  {
   "cell_type": "markdown",
   "id": "48ad45d2-e6b6-4843-a699-93dc090f5ef9",
   "metadata": {},
   "source": [
    "## Set Initial conditions"
   ]
  },
  {
   "cell_type": "code",
   "execution_count": 269,
   "id": "b3f5c52d-3099-4d71-8ba5-44bc08af81fb",
   "metadata": {
    "scrolled": true
   },
   "outputs": [],
   "source": [
    "set!(model, T=T₀)"
   ]
  },
  {
   "cell_type": "markdown",
   "id": "d019167a-88f1-4556-911a-4b7679d7ea30",
   "metadata": {},
   "source": [
    "# Simulation"
   ]
  },
  {
   "cell_type": "code",
   "execution_count": 270,
   "id": "21955939-c4d2-4cc1-89c3-6762d3907692",
   "metadata": {},
   "outputs": [
    {
     "data": {
      "text/plain": [
       "259200.0"
      ]
     },
     "execution_count": 270,
     "metadata": {},
     "output_type": "execute_result"
    }
   ],
   "source": [
    "Δt = 20seconds\n",
    "stop_time = 3days"
   ]
  },
  {
   "cell_type": "code",
   "execution_count": 271,
   "id": "74631b84-090c-44ea-91e9-0f45eef6562c",
   "metadata": {
    "scrolled": true
   },
   "outputs": [
    {
     "data": {
      "text/plain": [
       "Simulation of HydrostaticFreeSurfaceModel{CPU, ImmersedBoundaryGrid}(time = 0 seconds, iteration = 0)\n",
       "├── Next time step: 20 seconds\n",
       "├── Elapsed wall time: 0 seconds\n",
       "├── Wall time per iteration: NaN days\n",
       "├── Stop time: 3 days\n",
       "├── Stop iteration : Inf\n",
       "├── Wall time limit: Inf\n",
       "├── Callbacks: OrderedDict with 4 entries:\n",
       "│   ├── stop_time_exceeded => Callback of stop_time_exceeded on IterationInterval(1)\n",
       "│   ├── stop_iteration_exceeded => Callback of stop_iteration_exceeded on IterationInterval(1)\n",
       "│   ├── wall_time_limit_exceeded => Callback of wall_time_limit_exceeded on IterationInterval(1)\n",
       "│   └── nan_checker => Callback of NaNChecker for u on IterationInterval(100)\n",
       "├── Output writers: OrderedDict with no entries\n",
       "└── Diagnostics: OrderedDict with no entries"
      ]
     },
     "execution_count": 271,
     "metadata": {},
     "output_type": "execute_result"
    }
   ],
   "source": [
    "simulation = Simulation(model; Δt, stop_time)"
   ]
  },
  {
   "cell_type": "code",
   "execution_count": 272,
   "id": "56e03057-a8e6-4256-9610-9c4931246bd2",
   "metadata": {},
   "outputs": [
    {
     "data": {
      "text/plain": [
       "progress (generic function with 1 method)"
      ]
     },
     "execution_count": 272,
     "metadata": {},
     "output_type": "execute_result"
    }
   ],
   "source": [
    "progress(sim) = @info \"Time : $(prettytime(sim.model.clock.time)),\n",
    "                        max(|u|): $(maximum(abs, sim.model.velocities.u)),\n",
    "                        max(T): $(maximum(model.tracers.T))\""
   ]
  },
  {
   "cell_type": "code",
   "execution_count": 273,
   "id": "082b3119-3fdc-405e-a515-0a0b829e6ddb",
   "metadata": {},
   "outputs": [
    {
     "data": {
      "text/plain": [
       "Callback of progress on IterationInterval(100)"
      ]
     },
     "execution_count": 273,
     "metadata": {},
     "output_type": "execute_result"
    }
   ],
   "source": [
    "simulation.callbacks[:progress] = Callback(progress, IterationInterval(100))"
   ]
  },
  {
   "cell_type": "code",
   "execution_count": 274,
   "id": "f7c59431-c148-411d-ab8f-4cbc22527052",
   "metadata": {},
   "outputs": [
    {
     "data": {
      "text/plain": [
       "43×54×34 Field{Center, Center, Center} on ImmersedBoundaryGrid on CPU\n",
       "├── grid: 43×54×34 ImmersedBoundaryGrid{Float64, Bounded, Bounded, Bounded} on CPU with 7×7×7 halo\n",
       "├── boundary conditions: FieldBoundaryConditions\n",
       "│   └── west: ZeroFlux, east: ZeroFlux, south: ZeroFlux, north: ZeroFlux, bottom: ZeroFlux, top: ZeroFlux, immersed: ZeroFlux\n",
       "└── data: 57×68×48 OffsetArray(::Array{Float64, 3}, -6:50, -6:61, -6:41) with eltype Float64 with indices -6:50×-6:61×-6:41\n",
       "    └── max=12.5, min=3.9, mean=8.35579"
      ]
     },
     "execution_count": 274,
     "metadata": {},
     "output_type": "execute_result"
    }
   ],
   "source": [
    "u, v, w = model.velocities\n",
    "T = model.tracers.T"
   ]
  },
  {
   "cell_type": "code",
   "execution_count": 275,
   "id": "0d5900e0-b3e4-48f3-84d5-4bed7ea889c2",
   "metadata": {},
   "outputs": [
    {
     "data": {
      "text/plain": [
       "JLD2OutputWriter scheduled on TimeInterval(6 hours):\n",
       "├── filepath: .\\test4_snapshots.jld2\n",
       "├── 4 outputs: (u, v, w, T)\n",
       "├── array type: Array{Float64}\n",
       "├── including: [:grid, :coriolis, :buoyancy, :closure]\n",
       "└── max filesize: Inf YiB"
      ]
     },
     "execution_count": 275,
     "metadata": {},
     "output_type": "execute_result"
    }
   ],
   "source": [
    "simulation.output_writers[:surface_fields] =\n",
    "    JLD2OutputWriter(model, (; u, v, w, T),\n",
    "                     schedule = TimeInterval(save_interval),\n",
    "                     filename = \"test4_snapshots\",\n",
    "                     with_halos = true,\n",
    "                     overwrite_existing = true)"
   ]
  },
  {
   "cell_type": "code",
   "execution_count": 276,
   "id": "5205a490-b194-4dc9-a270-475965d5683d",
   "metadata": {
    "scrolled": true
   },
   "outputs": [
    {
     "name": "stderr",
     "output_type": "stream",
     "text": [
      "\u001b[36m\u001b[1m[ \u001b[22m\u001b[39m\u001b[36m\u001b[1mInfo: \u001b[22m\u001b[39mInitializing simulation...\n",
      "\u001b[36m\u001b[1m┌ \u001b[22m\u001b[39m\u001b[36m\u001b[1mInfo: \u001b[22m\u001b[39mTime : 0 seconds,\n",
      "\u001b[36m\u001b[1m│ \u001b[22m\u001b[39m                        max(|u|): 0.0,\n",
      "\u001b[36m\u001b[1m└ \u001b[22m\u001b[39m                        max(T): 12.5\n",
      "\u001b[36m\u001b[1m[ \u001b[22m\u001b[39m\u001b[36m\u001b[1mInfo: \u001b[22m\u001b[39m    ... simulation initialization complete (136.475 ms)\n",
      "\u001b[36m\u001b[1m[ \u001b[22m\u001b[39m\u001b[36m\u001b[1mInfo: \u001b[22m\u001b[39mExecuting initial time step...\n",
      "\u001b[36m\u001b[1m[ \u001b[22m\u001b[39m\u001b[36m\u001b[1mInfo: \u001b[22m\u001b[39m    ... initial time step complete (1.966 seconds).\n",
      "\u001b[36m\u001b[1m┌ \u001b[22m\u001b[39m\u001b[36m\u001b[1mInfo: \u001b[22m\u001b[39mTime : 33.333 minutes,\n",
      "\u001b[36m\u001b[1m│ \u001b[22m\u001b[39m                        max(|u|): 0.0011997391977311691,\n",
      "\u001b[36m\u001b[1m└ \u001b[22m\u001b[39m                        max(T): 12.500000001584208\n",
      "\u001b[36m\u001b[1m┌ \u001b[22m\u001b[39m\u001b[36m\u001b[1mInfo: \u001b[22m\u001b[39mTime : 1.111 hours,\n",
      "\u001b[36m\u001b[1m│ \u001b[22m\u001b[39m                        max(|u|): 0.001392897219239136,\n",
      "\u001b[36m\u001b[1m└ \u001b[22m\u001b[39m                        max(T): 12.500000010525834\n",
      "\u001b[36m\u001b[1m┌ \u001b[22m\u001b[39m\u001b[36m\u001b[1mInfo: \u001b[22m\u001b[39mTime : 1.667 hours,\n",
      "\u001b[36m\u001b[1m│ \u001b[22m\u001b[39m                        max(|u|): 0.0014412856932222602,\n",
      "\u001b[36m\u001b[1m└ \u001b[22m\u001b[39m                        max(T): 12.50000001297036\n",
      "\u001b[36m\u001b[1m┌ \u001b[22m\u001b[39m\u001b[36m\u001b[1mInfo: \u001b[22m\u001b[39mTime : 2.222 hours,\n",
      "\u001b[36m\u001b[1m│ \u001b[22m\u001b[39m                        max(|u|): 0.001454047393420638,\n",
      "\u001b[36m\u001b[1m└ \u001b[22m\u001b[39m                        max(T): 12.500000005057617\n",
      "\u001b[36m\u001b[1m┌ \u001b[22m\u001b[39m\u001b[36m\u001b[1mInfo: \u001b[22m\u001b[39mTime : 2.778 hours,\n",
      "\u001b[36m\u001b[1m│ \u001b[22m\u001b[39m                        max(|u|): 0.0014571579246218961,\n",
      "\u001b[36m\u001b[1m└ \u001b[22m\u001b[39m                        max(T): 12.500000000000925\n",
      "\u001b[36m\u001b[1m┌ \u001b[22m\u001b[39m\u001b[36m\u001b[1mInfo: \u001b[22m\u001b[39mTime : 3.333 hours,\n",
      "\u001b[36m\u001b[1m│ \u001b[22m\u001b[39m                        max(|u|): 0.0014575555962641053,\n",
      "\u001b[36m\u001b[1m└ \u001b[22m\u001b[39m                        max(T): 12.500000000001075\n",
      "\u001b[36m\u001b[1m┌ \u001b[22m\u001b[39m\u001b[36m\u001b[1mInfo: \u001b[22m\u001b[39mTime : 3.889 hours,\n",
      "\u001b[36m\u001b[1m│ \u001b[22m\u001b[39m                        max(|u|): 0.0014571693196591263,\n",
      "\u001b[36m\u001b[1m└ \u001b[22m\u001b[39m                        max(T): 12.500000000631715\n",
      "\u001b[36m\u001b[1m┌ \u001b[22m\u001b[39m\u001b[36m\u001b[1mInfo: \u001b[22m\u001b[39mTime : 4.444 hours,\n",
      "\u001b[36m\u001b[1m│ \u001b[22m\u001b[39m                        max(|u|): 0.0014565520279922633,\n",
      "\u001b[36m\u001b[1m└ \u001b[22m\u001b[39m                        max(T): 12.500000002198545\n",
      "\u001b[36m\u001b[1m┌ \u001b[22m\u001b[39m\u001b[36m\u001b[1mInfo: \u001b[22m\u001b[39mTime : 5 hours,\n",
      "\u001b[36m\u001b[1m│ \u001b[22m\u001b[39m                        max(|u|): 0.0014558653639411214,\n",
      "\u001b[36m\u001b[1m└ \u001b[22m\u001b[39m                        max(T): 12.500000004079634\n",
      "\u001b[36m\u001b[1m┌ \u001b[22m\u001b[39m\u001b[36m\u001b[1mInfo: \u001b[22m\u001b[39mTime : 5.556 hours,\n",
      "\u001b[36m\u001b[1m│ \u001b[22m\u001b[39m                        max(|u|): 0.0014551572844967685,\n",
      "\u001b[36m\u001b[1m└ \u001b[22m\u001b[39m                        max(T): 12.500000006235588\n",
      "\u001b[36m\u001b[1m┌ \u001b[22m\u001b[39m\u001b[36m\u001b[1mInfo: \u001b[22m\u001b[39mTime : 6.111 hours,\n",
      "\u001b[36m\u001b[1m│ \u001b[22m\u001b[39m                        max(|u|): 0.0014544422238788428,\n",
      "\u001b[36m\u001b[1m└ \u001b[22m\u001b[39m                        max(T): 12.500000008540956\n",
      "\u001b[36m\u001b[1m┌ \u001b[22m\u001b[39m\u001b[36m\u001b[1mInfo: \u001b[22m\u001b[39mTime : 6.667 hours,\n",
      "\u001b[36m\u001b[1m│ \u001b[22m\u001b[39m                        max(|u|): 0.001453724614582303,\n",
      "\u001b[36m\u001b[1m└ \u001b[22m\u001b[39m                        max(T): 12.500000010745413\n",
      "\u001b[36m\u001b[1m┌ \u001b[22m\u001b[39m\u001b[36m\u001b[1mInfo: \u001b[22m\u001b[39mTime : 7.222 hours,\n",
      "\u001b[36m\u001b[1m│ \u001b[22m\u001b[39m                        max(|u|): 0.0014530058708746986,\n",
      "\u001b[36m\u001b[1m└ \u001b[22m\u001b[39m                        max(T): 12.500000012420914\n",
      "\u001b[36m\u001b[1m┌ \u001b[22m\u001b[39m\u001b[36m\u001b[1mInfo: \u001b[22m\u001b[39mTime : 7.778 hours,\n",
      "\u001b[36m\u001b[1m│ \u001b[22m\u001b[39m                        max(|u|): 0.0014522864825904456,\n",
      "\u001b[36m\u001b[1m└ \u001b[22m\u001b[39m                        max(T): 12.500000012925542\n",
      "\u001b[36m\u001b[1m┌ \u001b[22m\u001b[39m\u001b[36m\u001b[1mInfo: \u001b[22m\u001b[39mTime : 8.333 hours,\n",
      "\u001b[36m\u001b[1m│ \u001b[22m\u001b[39m                        max(|u|): 0.001451566648751975,\n",
      "\u001b[36m\u001b[1m└ \u001b[22m\u001b[39m                        max(T): 12.500000011476017\n",
      "\u001b[36m\u001b[1m┌ \u001b[22m\u001b[39m\u001b[36m\u001b[1mInfo: \u001b[22m\u001b[39mTime : 8.889 hours,\n",
      "\u001b[36m\u001b[1m│ \u001b[22m\u001b[39m                        max(|u|): 0.0014508464714603803,\n",
      "\u001b[36m\u001b[1m└ \u001b[22m\u001b[39m                        max(T): 12.500000007409696\n",
      "\u001b[36m\u001b[1m┌ \u001b[22m\u001b[39m\u001b[36m\u001b[1mInfo: \u001b[22m\u001b[39mTime : 9.444 hours,\n",
      "\u001b[36m\u001b[1m│ \u001b[22m\u001b[39m                        max(|u|): 0.0014501260163298619,\n",
      "\u001b[36m\u001b[1m└ \u001b[22m\u001b[39m                        max(T): 12.500000000465128\n",
      "\u001b[36m\u001b[1m┌ \u001b[22m\u001b[39m\u001b[36m\u001b[1mInfo: \u001b[22m\u001b[39mTime : 10 hours,\n",
      "\u001b[36m\u001b[1m│ \u001b[22m\u001b[39m                        max(|u|): 0.0014494053320778313,\n",
      "\u001b[36m\u001b[1m└ \u001b[22m\u001b[39m                        max(T): 12.500000000000274\n",
      "\u001b[36m\u001b[1m┌ \u001b[22m\u001b[39m\u001b[36m\u001b[1mInfo: \u001b[22m\u001b[39mTime : 10.556 hours,\n",
      "\u001b[36m\u001b[1m│ \u001b[22m\u001b[39m                        max(|u|): 0.0014486844574591324,\n",
      "\u001b[36m\u001b[1m└ \u001b[22m\u001b[39m                        max(T): 12.500000000000274\n",
      "\u001b[36m\u001b[1m┌ \u001b[22m\u001b[39m\u001b[36m\u001b[1mInfo: \u001b[22m\u001b[39mTime : 11.111 hours,\n",
      "\u001b[36m\u001b[1m│ \u001b[22m\u001b[39m                        max(|u|): 0.001447963424178036,\n",
      "\u001b[36m\u001b[1m└ \u001b[22m\u001b[39m                        max(T): 12.500000000000274\n",
      "\u001b[36m\u001b[1m┌ \u001b[22m\u001b[39m\u001b[36m\u001b[1mInfo: \u001b[22m\u001b[39mTime : 11.667 hours,\n",
      "\u001b[36m\u001b[1m│ \u001b[22m\u001b[39m                        max(|u|): 0.0014472422584431125,\n",
      "\u001b[36m\u001b[1m└ \u001b[22m\u001b[39m                        max(T): 12.500000000000274\n",
      "\u001b[36m\u001b[1m┌ \u001b[22m\u001b[39m\u001b[36m\u001b[1mInfo: \u001b[22m\u001b[39mTime : 12.222 hours,\n",
      "\u001b[36m\u001b[1m│ \u001b[22m\u001b[39m                        max(|u|): 0.0014465209820001307,\n",
      "\u001b[36m\u001b[1m└ \u001b[22m\u001b[39m                        max(T): 12.500000000000252\n",
      "\u001b[36m\u001b[1m┌ \u001b[22m\u001b[39m\u001b[36m\u001b[1mInfo: \u001b[22m\u001b[39mTime : 12.778 hours,\n",
      "\u001b[36m\u001b[1m│ \u001b[22m\u001b[39m                        max(|u|): 0.0014457996129146667,\n",
      "\u001b[36m\u001b[1m└ \u001b[22m\u001b[39m                        max(T): 12.500000000000163\n",
      "\u001b[36m\u001b[1m┌ \u001b[22m\u001b[39m\u001b[36m\u001b[1mInfo: \u001b[22m\u001b[39mTime : 13.333 hours,\n",
      "\u001b[36m\u001b[1m│ \u001b[22m\u001b[39m                        max(|u|): 0.0014450781662013487,\n",
      "\u001b[36m\u001b[1m└ \u001b[22m\u001b[39m                        max(T): 12.500000000000059\n",
      "\u001b[36m\u001b[1m┌ \u001b[22m\u001b[39m\u001b[36m\u001b[1mInfo: \u001b[22m\u001b[39mTime : 13.889 hours,\n",
      "\u001b[36m\u001b[1m│ \u001b[22m\u001b[39m                        max(|u|): 0.00144435665434139,\n",
      "\u001b[36m\u001b[1m└ \u001b[22m\u001b[39m                        max(T): 12.499999999999881\n",
      "\u001b[36m\u001b[1m┌ \u001b[22m\u001b[39m\u001b[36m\u001b[1mInfo: \u001b[22m\u001b[39mTime : 14.444 hours,\n",
      "\u001b[36m\u001b[1m│ \u001b[22m\u001b[39m                        max(|u|): 0.0014436350877115264,\n",
      "\u001b[36m\u001b[1m└ \u001b[22m\u001b[39m                        max(T): 12.499999999999703\n",
      "\u001b[36m\u001b[1m┌ \u001b[22m\u001b[39m\u001b[36m\u001b[1mInfo: \u001b[22m\u001b[39mTime : 15 hours,\n",
      "\u001b[36m\u001b[1m│ \u001b[22m\u001b[39m                        max(|u|): 0.0014429134749403174,\n",
      "\u001b[36m\u001b[1m└ \u001b[22m\u001b[39m                        max(T): 12.499999999999526\n",
      "\u001b[36m\u001b[1m┌ \u001b[22m\u001b[39m\u001b[36m\u001b[1mInfo: \u001b[22m\u001b[39mTime : 15.556 hours,\n",
      "\u001b[36m\u001b[1m│ \u001b[22m\u001b[39m                        max(|u|): 0.001442191823204232,\n",
      "\u001b[36m\u001b[1m└ \u001b[22m\u001b[39m                        max(T): 12.499999999999332\n",
      "\u001b[36m\u001b[1m┌ \u001b[22m\u001b[39m\u001b[36m\u001b[1mInfo: \u001b[22m\u001b[39mTime : 16.111 hours,\n",
      "\u001b[36m\u001b[1m│ \u001b[22m\u001b[39m                        max(|u|): 0.0014414701384736662,\n",
      "\u001b[36m\u001b[1m└ \u001b[22m\u001b[39m                        max(T): 12.499999999998986\n",
      "\u001b[36m\u001b[1m┌ \u001b[22m\u001b[39m\u001b[36m\u001b[1mInfo: \u001b[22m\u001b[39mTime : 16.667 hours,\n",
      "\u001b[36m\u001b[1m│ \u001b[22m\u001b[39m                        max(|u|): 0.0014407484257173188,\n",
      "\u001b[36m\u001b[1m└ \u001b[22m\u001b[39m                        max(T): 12.49999999999863\n",
      "\u001b[36m\u001b[1m┌ \u001b[22m\u001b[39m\u001b[36m\u001b[1mInfo: \u001b[22m\u001b[39mTime : 17.222 hours,\n",
      "\u001b[36m\u001b[1m│ \u001b[22m\u001b[39m                        max(|u|): 0.0014400266890719387,\n",
      "\u001b[36m\u001b[1m└ \u001b[22m\u001b[39m                        max(T): 12.499999999998163\n",
      "\u001b[36m\u001b[1m┌ \u001b[22m\u001b[39m\u001b[36m\u001b[1mInfo: \u001b[22m\u001b[39mTime : 17.778 hours,\n",
      "\u001b[36m\u001b[1m│ \u001b[22m\u001b[39m                        max(|u|): 0.0014393049319833024,\n",
      "\u001b[36m\u001b[1m└ \u001b[22m\u001b[39m                        max(T): 12.49999999999763\n",
      "\u001b[36m\u001b[1m┌ \u001b[22m\u001b[39m\u001b[36m\u001b[1mInfo: \u001b[22m\u001b[39mTime : 18.333 hours,\n",
      "\u001b[36m\u001b[1m│ \u001b[22m\u001b[39m                        max(|u|): 0.0014385831573232762,\n",
      "\u001b[36m\u001b[1m└ \u001b[22m\u001b[39m                        max(T): 12.499999999997039\n",
      "\u001b[36m\u001b[1m┌ \u001b[22m\u001b[39m\u001b[36m\u001b[1mInfo: \u001b[22m\u001b[39mTime : 18.889 hours,\n",
      "\u001b[36m\u001b[1m│ \u001b[22m\u001b[39m                        max(|u|): 0.0014378613674870288,\n",
      "\u001b[36m\u001b[1m└ \u001b[22m\u001b[39m                        max(T): 12.499999999997039\n",
      "\u001b[36m\u001b[1m┌ \u001b[22m\u001b[39m\u001b[36m\u001b[1mInfo: \u001b[22m\u001b[39mTime : 19.444 hours,\n",
      "\u001b[36m\u001b[1m│ \u001b[22m\u001b[39m                        max(|u|): 0.0014371395644737425,\n",
      "\u001b[36m\u001b[1m└ \u001b[22m\u001b[39m                        max(T): 12.499999999997039\n",
      "\u001b[36m\u001b[1m┌ \u001b[22m\u001b[39m\u001b[36m\u001b[1mInfo: \u001b[22m\u001b[39mTime : 20 hours,\n",
      "\u001b[36m\u001b[1m│ \u001b[22m\u001b[39m                        max(|u|): 0.001436417749953637,\n",
      "\u001b[36m\u001b[1m└ \u001b[22m\u001b[39m                        max(T): 12.499999999997039\n",
      "\u001b[36m\u001b[1m┌ \u001b[22m\u001b[39m\u001b[36m\u001b[1mInfo: \u001b[22m\u001b[39mTime : 20.556 hours,\n",
      "\u001b[36m\u001b[1m│ \u001b[22m\u001b[39m                        max(|u|): 0.0014356959253236186,\n",
      "\u001b[36m\u001b[1m└ \u001b[22m\u001b[39m                        max(T): 12.499999999997039\n",
      "\u001b[36m\u001b[1m┌ \u001b[22m\u001b[39m\u001b[36m\u001b[1mInfo: \u001b[22m\u001b[39mTime : 21.111 hours,\n",
      "\u001b[36m\u001b[1m│ \u001b[22m\u001b[39m                        max(|u|): 0.0014349740917534873,\n",
      "\u001b[36m\u001b[1m└ \u001b[22m\u001b[39m                        max(T): 12.499999999997039\n",
      "\u001b[36m\u001b[1m┌ \u001b[22m\u001b[39m\u001b[36m\u001b[1mInfo: \u001b[22m\u001b[39mTime : 21.667 hours,\n",
      "\u001b[36m\u001b[1m│ \u001b[22m\u001b[39m                        max(|u|): 0.001434252250224305,\n",
      "\u001b[36m\u001b[1m└ \u001b[22m\u001b[39m                        max(T): 12.499999999997039\n",
      "\u001b[36m\u001b[1m┌ \u001b[22m\u001b[39m\u001b[36m\u001b[1mInfo: \u001b[22m\u001b[39mTime : 22.222 hours,\n",
      "\u001b[36m\u001b[1m│ \u001b[22m\u001b[39m                        max(|u|): 0.0014335304015602541,\n",
      "\u001b[36m\u001b[1m└ \u001b[22m\u001b[39m                        max(T): 12.499999999997039\n",
      "\u001b[36m\u001b[1m┌ \u001b[22m\u001b[39m\u001b[36m\u001b[1mInfo: \u001b[22m\u001b[39mTime : 22.778 hours,\n",
      "\u001b[36m\u001b[1m│ \u001b[22m\u001b[39m                        max(|u|): 0.001432808546455093,\n",
      "\u001b[36m\u001b[1m└ \u001b[22m\u001b[39m                        max(T): 12.499999999997039\n",
      "\u001b[36m\u001b[1m┌ \u001b[22m\u001b[39m\u001b[36m\u001b[1mInfo: \u001b[22m\u001b[39mTime : 23.333 hours,\n",
      "\u001b[36m\u001b[1m│ \u001b[22m\u001b[39m                        max(|u|): 0.001432086685494121,\n",
      "\u001b[36m\u001b[1m└ \u001b[22m\u001b[39m                        max(T): 12.499999999997039\n",
      "\u001b[36m\u001b[1m┌ \u001b[22m\u001b[39m\u001b[36m\u001b[1mInfo: \u001b[22m\u001b[39mTime : 23.889 hours,\n",
      "\u001b[36m\u001b[1m│ \u001b[22m\u001b[39m                        max(|u|): 0.0014313648191724227,\n",
      "\u001b[36m\u001b[1m└ \u001b[22m\u001b[39m                        max(T): 12.499999999997039\n",
      "\u001b[36m\u001b[1m┌ \u001b[22m\u001b[39m\u001b[36m\u001b[1mInfo: \u001b[22m\u001b[39mTime : 1.019 days,\n",
      "\u001b[36m\u001b[1m│ \u001b[22m\u001b[39m                        max(|u|): 0.001430642947910013,\n",
      "\u001b[36m\u001b[1m└ \u001b[22m\u001b[39m                        max(T): 12.499999999997039\n",
      "\u001b[36m\u001b[1m┌ \u001b[22m\u001b[39m\u001b[36m\u001b[1mInfo: \u001b[22m\u001b[39mTime : 1.042 days,\n",
      "\u001b[36m\u001b[1m│ \u001b[22m\u001b[39m                        max(|u|): 0.0014299210720644209,\n",
      "\u001b[36m\u001b[1m└ \u001b[22m\u001b[39m                        max(T): 12.499999999997039\n",
      "\u001b[36m\u001b[1m┌ \u001b[22m\u001b[39m\u001b[36m\u001b[1mInfo: \u001b[22m\u001b[39mTime : 1.065 days,\n",
      "\u001b[36m\u001b[1m│ \u001b[22m\u001b[39m                        max(|u|): 0.0014291991919411333,\n",
      "\u001b[36m\u001b[1m└ \u001b[22m\u001b[39m                        max(T): 12.499999999997039\n",
      "\u001b[36m\u001b[1m┌ \u001b[22m\u001b[39m\u001b[36m\u001b[1mInfo: \u001b[22m\u001b[39mTime : 1.088 days,\n",
      "\u001b[36m\u001b[1m│ \u001b[22m\u001b[39m                        max(|u|): 0.0014284773078022757,\n",
      "\u001b[36m\u001b[1m└ \u001b[22m\u001b[39m                        max(T): 12.499999999997039\n",
      "\u001b[36m\u001b[1m┌ \u001b[22m\u001b[39m\u001b[36m\u001b[1mInfo: \u001b[22m\u001b[39mTime : 1.111 days,\n",
      "\u001b[36m\u001b[1m│ \u001b[22m\u001b[39m                        max(|u|): 0.0014277554198738169,\n",
      "\u001b[36m\u001b[1m└ \u001b[22m\u001b[39m                        max(T): 12.499999999997039\n",
      "\u001b[36m\u001b[1m┌ \u001b[22m\u001b[39m\u001b[36m\u001b[1mInfo: \u001b[22m\u001b[39mTime : 1.134 days,\n",
      "\u001b[36m\u001b[1m│ \u001b[22m\u001b[39m                        max(|u|): 0.0014270335283515546,\n",
      "\u001b[36m\u001b[1m└ \u001b[22m\u001b[39m                        max(T): 12.499999999997039\n",
      "\u001b[36m\u001b[1m┌ \u001b[22m\u001b[39m\u001b[36m\u001b[1mInfo: \u001b[22m\u001b[39mTime : 1.157 days,\n",
      "\u001b[36m\u001b[1m│ \u001b[22m\u001b[39m                        max(|u|): 0.001426311633406093,\n",
      "\u001b[36m\u001b[1m└ \u001b[22m\u001b[39m                        max(T): 12.499999999997039\n",
      "\u001b[36m\u001b[1m┌ \u001b[22m\u001b[39m\u001b[36m\u001b[1mInfo: \u001b[22m\u001b[39mTime : 1.181 days,\n",
      "\u001b[36m\u001b[1m│ \u001b[22m\u001b[39m                        max(|u|): 0.0014255897351869687,\n",
      "\u001b[36m\u001b[1m└ \u001b[22m\u001b[39m                        max(T): 12.499999999997039\n",
      "\u001b[36m\u001b[1m┌ \u001b[22m\u001b[39m\u001b[36m\u001b[1mInfo: \u001b[22m\u001b[39mTime : 1.204 days,\n",
      "\u001b[36m\u001b[1m│ \u001b[22m\u001b[39m                        max(|u|): 0.001424867833826088,\n",
      "\u001b[36m\u001b[1m└ \u001b[22m\u001b[39m                        max(T): 12.499999999997039\n",
      "\u001b[36m\u001b[1m┌ \u001b[22m\u001b[39m\u001b[36m\u001b[1mInfo: \u001b[22m\u001b[39mTime : 1.227 days,\n",
      "\u001b[36m\u001b[1m│ \u001b[22m\u001b[39m                        max(|u|): 0.0014241459294405772,\n",
      "\u001b[36m\u001b[1m└ \u001b[22m\u001b[39m                        max(T): 12.499999999997039\n",
      "\u001b[36m\u001b[1m┌ \u001b[22m\u001b[39m\u001b[36m\u001b[1mInfo: \u001b[22m\u001b[39mTime : 1.250 days,\n",
      "\u001b[36m\u001b[1m│ \u001b[22m\u001b[39m                        max(|u|): 0.0014234240221351559,\n",
      "\u001b[36m\u001b[1m└ \u001b[22m\u001b[39m                        max(T): 12.499999999997039\n",
      "\u001b[36m\u001b[1m┌ \u001b[22m\u001b[39m\u001b[36m\u001b[1mInfo: \u001b[22m\u001b[39mTime : 1.273 days,\n",
      "\u001b[36m\u001b[1m│ \u001b[22m\u001b[39m                        max(|u|): 0.0014227021120041046,\n",
      "\u001b[36m\u001b[1m└ \u001b[22m\u001b[39m                        max(T): 12.499999999997039\n",
      "\u001b[36m\u001b[1m┌ \u001b[22m\u001b[39m\u001b[36m\u001b[1mInfo: \u001b[22m\u001b[39mTime : 1.296 days,\n",
      "\u001b[36m\u001b[1m│ \u001b[22m\u001b[39m                        max(|u|): 0.0014219801991329087,\n",
      "\u001b[36m\u001b[1m└ \u001b[22m\u001b[39m                        max(T): 12.499999999997039\n",
      "\u001b[36m\u001b[1m┌ \u001b[22m\u001b[39m\u001b[36m\u001b[1mInfo: \u001b[22m\u001b[39mTime : 1.319 days,\n",
      "\u001b[36m\u001b[1m│ \u001b[22m\u001b[39m                        max(|u|): 0.0014212582835996163,\n",
      "\u001b[36m\u001b[1m└ \u001b[22m\u001b[39m                        max(T): 12.499999999997039\n",
      "\u001b[36m\u001b[1m┌ \u001b[22m\u001b[39m\u001b[36m\u001b[1mInfo: \u001b[22m\u001b[39mTime : 1.343 days,\n",
      "\u001b[36m\u001b[1m│ \u001b[22m\u001b[39m                        max(|u|): 0.0014205363654759765,\n",
      "\u001b[36m\u001b[1m└ \u001b[22m\u001b[39m                        max(T): 12.499999999997039\n",
      "\u001b[36m\u001b[1m┌ \u001b[22m\u001b[39m\u001b[36m\u001b[1mInfo: \u001b[22m\u001b[39mTime : 1.366 days,\n",
      "\u001b[36m\u001b[1m│ \u001b[22m\u001b[39m                        max(|u|): 0.0014198144448283815,\n",
      "\u001b[36m\u001b[1m└ \u001b[22m\u001b[39m                        max(T): 12.499999999997039\n",
      "\u001b[36m\u001b[1m┌ \u001b[22m\u001b[39m\u001b[36m\u001b[1mInfo: \u001b[22m\u001b[39mTime : 1.389 days,\n",
      "\u001b[36m\u001b[1m│ \u001b[22m\u001b[39m                        max(|u|): 0.0014190925217186523,\n",
      "\u001b[36m\u001b[1m└ \u001b[22m\u001b[39m                        max(T): 12.499999999997039\n",
      "\u001b[36m\u001b[1m┌ \u001b[22m\u001b[39m\u001b[36m\u001b[1mInfo: \u001b[22m\u001b[39mTime : 1.412 days,\n",
      "\u001b[36m\u001b[1m│ \u001b[22m\u001b[39m                        max(|u|): 0.001418370596204695,\n",
      "\u001b[36m\u001b[1m└ \u001b[22m\u001b[39m                        max(T): 12.499999999997039\n",
      "\u001b[36m\u001b[1m┌ \u001b[22m\u001b[39m\u001b[36m\u001b[1mInfo: \u001b[22m\u001b[39mTime : 1.435 days,\n",
      "\u001b[36m\u001b[1m│ \u001b[22m\u001b[39m                        max(|u|): 0.0014176486683410443,\n",
      "\u001b[36m\u001b[1m└ \u001b[22m\u001b[39m                        max(T): 12.499999999997039\n",
      "\u001b[36m\u001b[1m┌ \u001b[22m\u001b[39m\u001b[36m\u001b[1mInfo: \u001b[22m\u001b[39mTime : 1.458 days,\n",
      "\u001b[36m\u001b[1m│ \u001b[22m\u001b[39m                        max(|u|): 0.0014169267381793215,\n",
      "\u001b[36m\u001b[1m└ \u001b[22m\u001b[39m                        max(T): 12.499999999997039\n",
      "\u001b[36m\u001b[1m┌ \u001b[22m\u001b[39m\u001b[36m\u001b[1mInfo: \u001b[22m\u001b[39mTime : 1.481 days,\n",
      "\u001b[36m\u001b[1m│ \u001b[22m\u001b[39m                        max(|u|): 0.001416204805768613,\n",
      "\u001b[36m\u001b[1m└ \u001b[22m\u001b[39m                        max(T): 12.499999999997039\n",
      "\u001b[36m\u001b[1m┌ \u001b[22m\u001b[39m\u001b[36m\u001b[1mInfo: \u001b[22m\u001b[39mTime : 1.505 days,\n",
      "\u001b[36m\u001b[1m│ \u001b[22m\u001b[39m                        max(|u|): 0.0014154828711557875,\n",
      "\u001b[36m\u001b[1m└ \u001b[22m\u001b[39m                        max(T): 12.499999999997039\n",
      "\u001b[36m\u001b[1m┌ \u001b[22m\u001b[39m\u001b[36m\u001b[1mInfo: \u001b[22m\u001b[39mTime : 1.528 days,\n",
      "\u001b[36m\u001b[1m│ \u001b[22m\u001b[39m                        max(|u|): 0.0014147609343857636,\n",
      "\u001b[36m\u001b[1m└ \u001b[22m\u001b[39m                        max(T): 12.499999999997039\n",
      "\u001b[36m\u001b[1m┌ \u001b[22m\u001b[39m\u001b[36m\u001b[1mInfo: \u001b[22m\u001b[39mTime : 1.551 days,\n",
      "\u001b[36m\u001b[1m│ \u001b[22m\u001b[39m                        max(|u|): 0.0014140389955017317,\n",
      "\u001b[36m\u001b[1m└ \u001b[22m\u001b[39m                        max(T): 12.499999999997039\n",
      "\u001b[36m\u001b[1m┌ \u001b[22m\u001b[39m\u001b[36m\u001b[1mInfo: \u001b[22m\u001b[39mTime : 1.574 days,\n",
      "\u001b[36m\u001b[1m│ \u001b[22m\u001b[39m                        max(|u|): 0.0014133170545453403,\n",
      "\u001b[36m\u001b[1m└ \u001b[22m\u001b[39m                        max(T): 12.499999999997039\n",
      "\u001b[36m\u001b[1m┌ \u001b[22m\u001b[39m\u001b[36m\u001b[1mInfo: \u001b[22m\u001b[39mTime : 1.597 days,\n",
      "\u001b[36m\u001b[1m│ \u001b[22m\u001b[39m                        max(|u|): 0.001412595111556854,\n",
      "\u001b[36m\u001b[1m└ \u001b[22m\u001b[39m                        max(T): 12.499999999997039\n",
      "\u001b[36m\u001b[1m┌ \u001b[22m\u001b[39m\u001b[36m\u001b[1mInfo: \u001b[22m\u001b[39mTime : 1.620 days,\n",
      "\u001b[36m\u001b[1m│ \u001b[22m\u001b[39m                        max(|u|): 0.001411873166575283,\n",
      "\u001b[36m\u001b[1m└ \u001b[22m\u001b[39m                        max(T): 12.499999999997039\n",
      "\u001b[36m\u001b[1m┌ \u001b[22m\u001b[39m\u001b[36m\u001b[1mInfo: \u001b[22m\u001b[39mTime : 1.644 days,\n",
      "\u001b[36m\u001b[1m│ \u001b[22m\u001b[39m                        max(|u|): 0.0014111512196385003,\n",
      "\u001b[36m\u001b[1m└ \u001b[22m\u001b[39m                        max(T): 12.499999999997039\n",
      "\u001b[36m\u001b[1m┌ \u001b[22m\u001b[39m\u001b[36m\u001b[1mInfo: \u001b[22m\u001b[39mTime : 1.667 days,\n",
      "\u001b[36m\u001b[1m│ \u001b[22m\u001b[39m                        max(|u|): 0.001410429270783331,\n",
      "\u001b[36m\u001b[1m└ \u001b[22m\u001b[39m                        max(T): 12.499999999997039\n",
      "\u001b[36m\u001b[1m┌ \u001b[22m\u001b[39m\u001b[36m\u001b[1mInfo: \u001b[22m\u001b[39mTime : 1.690 days,\n",
      "\u001b[36m\u001b[1m│ \u001b[22m\u001b[39m                        max(|u|): 0.0014097073200456348,\n",
      "\u001b[36m\u001b[1m└ \u001b[22m\u001b[39m                        max(T): 12.499999999997039\n",
      "\u001b[36m\u001b[1m┌ \u001b[22m\u001b[39m\u001b[36m\u001b[1mInfo: \u001b[22m\u001b[39mTime : 1.713 days,\n",
      "\u001b[36m\u001b[1m│ \u001b[22m\u001b[39m                        max(|u|): 0.0014089853674603744,\n",
      "\u001b[36m\u001b[1m└ \u001b[22m\u001b[39m                        max(T): 12.499999999997039\n",
      "\u001b[36m\u001b[1m┌ \u001b[22m\u001b[39m\u001b[36m\u001b[1mInfo: \u001b[22m\u001b[39mTime : 1.736 days,\n",
      "\u001b[36m\u001b[1m│ \u001b[22m\u001b[39m                        max(|u|): 0.0014082634130616737,\n",
      "\u001b[36m\u001b[1m└ \u001b[22m\u001b[39m                        max(T): 12.499999999997039\n",
      "\u001b[36m\u001b[1m┌ \u001b[22m\u001b[39m\u001b[36m\u001b[1mInfo: \u001b[22m\u001b[39mTime : 1.759 days,\n",
      "\u001b[36m\u001b[1m│ \u001b[22m\u001b[39m                        max(|u|): 0.0014075414568828683,\n",
      "\u001b[36m\u001b[1m└ \u001b[22m\u001b[39m                        max(T): 12.499999999997039\n",
      "\u001b[36m\u001b[1m┌ \u001b[22m\u001b[39m\u001b[36m\u001b[1mInfo: \u001b[22m\u001b[39mTime : 1.782 days,\n",
      "\u001b[36m\u001b[1m│ \u001b[22m\u001b[39m                        max(|u|): 0.001406819498956549,\n",
      "\u001b[36m\u001b[1m└ \u001b[22m\u001b[39m                        max(T): 12.499999999997039\n",
      "\u001b[36m\u001b[1m┌ \u001b[22m\u001b[39m\u001b[36m\u001b[1mInfo: \u001b[22m\u001b[39mTime : 1.806 days,\n",
      "\u001b[36m\u001b[1m│ \u001b[22m\u001b[39m                        max(|u|): 0.0014060975393145987,\n",
      "\u001b[36m\u001b[1m└ \u001b[22m\u001b[39m                        max(T): 12.499999999997039\n",
      "\u001b[36m\u001b[1m┌ \u001b[22m\u001b[39m\u001b[36m\u001b[1mInfo: \u001b[22m\u001b[39mTime : 1.829 days,\n",
      "\u001b[36m\u001b[1m│ \u001b[22m\u001b[39m                        max(|u|): 0.0014053755779882269,\n",
      "\u001b[36m\u001b[1m└ \u001b[22m\u001b[39m                        max(T): 12.499999999997039\n",
      "\u001b[36m\u001b[1m┌ \u001b[22m\u001b[39m\u001b[36m\u001b[1mInfo: \u001b[22m\u001b[39mTime : 1.852 days,\n",
      "\u001b[36m\u001b[1m│ \u001b[22m\u001b[39m                        max(|u|): 0.0014046536150079958,\n",
      "\u001b[36m\u001b[1m└ \u001b[22m\u001b[39m                        max(T): 12.499999999997039\n",
      "\u001b[36m\u001b[1m┌ \u001b[22m\u001b[39m\u001b[36m\u001b[1mInfo: \u001b[22m\u001b[39mTime : 1.875 days,\n",
      "\u001b[36m\u001b[1m│ \u001b[22m\u001b[39m                        max(|u|): 0.0014039316504038505,\n",
      "\u001b[36m\u001b[1m└ \u001b[22m\u001b[39m                        max(T): 12.499999999997039\n",
      "\u001b[36m\u001b[1m┌ \u001b[22m\u001b[39m\u001b[36m\u001b[1mInfo: \u001b[22m\u001b[39mTime : 1.898 days,\n",
      "\u001b[36m\u001b[1m│ \u001b[22m\u001b[39m                        max(|u|): 0.0014032096842051358,\n",
      "\u001b[36m\u001b[1m└ \u001b[22m\u001b[39m                        max(T): 12.499999999997039\n",
      "\u001b[36m\u001b[1m┌ \u001b[22m\u001b[39m\u001b[36m\u001b[1mInfo: \u001b[22m\u001b[39mTime : 1.921 days,\n",
      "\u001b[36m\u001b[1m│ \u001b[22m\u001b[39m                        max(|u|): 0.0014024877164406202,\n",
      "\u001b[36m\u001b[1m└ \u001b[22m\u001b[39m                        max(T): 12.499999999997039\n",
      "\u001b[36m\u001b[1m┌ \u001b[22m\u001b[39m\u001b[36m\u001b[1mInfo: \u001b[22m\u001b[39mTime : 1.944 days,\n",
      "\u001b[36m\u001b[1m│ \u001b[22m\u001b[39m                        max(|u|): 0.0014017657471385155,\n",
      "\u001b[36m\u001b[1m└ \u001b[22m\u001b[39m                        max(T): 12.499999999997039\n",
      "\u001b[36m\u001b[1m┌ \u001b[22m\u001b[39m\u001b[36m\u001b[1mInfo: \u001b[22m\u001b[39mTime : 1.968 days,\n",
      "\u001b[36m\u001b[1m│ \u001b[22m\u001b[39m                        max(|u|): 0.0014010437763264905,\n",
      "\u001b[36m\u001b[1m└ \u001b[22m\u001b[39m                        max(T): 12.499999999997039\n",
      "\u001b[36m\u001b[1m┌ \u001b[22m\u001b[39m\u001b[36m\u001b[1mInfo: \u001b[22m\u001b[39mTime : 1.991 days,\n",
      "\u001b[36m\u001b[1m│ \u001b[22m\u001b[39m                        max(|u|): 0.0014003218040316858,\n",
      "\u001b[36m\u001b[1m└ \u001b[22m\u001b[39m                        max(T): 12.499999999997039\n",
      "\u001b[36m\u001b[1m┌ \u001b[22m\u001b[39m\u001b[36m\u001b[1mInfo: \u001b[22m\u001b[39mTime : 2.014 days,\n",
      "\u001b[36m\u001b[1m│ \u001b[22m\u001b[39m                        max(|u|): 0.001399599830280732,\n",
      "\u001b[36m\u001b[1m└ \u001b[22m\u001b[39m                        max(T): 12.499999999997039\n",
      "\u001b[36m\u001b[1m┌ \u001b[22m\u001b[39m\u001b[36m\u001b[1mInfo: \u001b[22m\u001b[39mTime : 2.037 days,\n",
      "\u001b[36m\u001b[1m│ \u001b[22m\u001b[39m                        max(|u|): 0.0013988778550997583,\n",
      "\u001b[36m\u001b[1m└ \u001b[22m\u001b[39m                        max(T): 12.499999999997039\n",
      "\u001b[36m\u001b[1m┌ \u001b[22m\u001b[39m\u001b[36m\u001b[1mInfo: \u001b[22m\u001b[39mTime : 2.060 days,\n",
      "\u001b[36m\u001b[1m│ \u001b[22m\u001b[39m                        max(|u|): 0.0013981558785144072,\n",
      "\u001b[36m\u001b[1m└ \u001b[22m\u001b[39m                        max(T): 12.499999999997039\n",
      "\u001b[36m\u001b[1m┌ \u001b[22m\u001b[39m\u001b[36m\u001b[1mInfo: \u001b[22m\u001b[39mTime : 2.083 days,\n",
      "\u001b[36m\u001b[1m│ \u001b[22m\u001b[39m                        max(|u|): 0.0013974339005498454,\n",
      "\u001b[36m\u001b[1m└ \u001b[22m\u001b[39m                        max(T): 12.499999999997039\n",
      "\u001b[36m\u001b[1m┌ \u001b[22m\u001b[39m\u001b[36m\u001b[1mInfo: \u001b[22m\u001b[39mTime : 2.106 days,\n",
      "\u001b[36m\u001b[1m│ \u001b[22m\u001b[39m                        max(|u|): 0.0013967119212307732,\n",
      "\u001b[36m\u001b[1m└ \u001b[22m\u001b[39m                        max(T): 12.499999999997039\n",
      "\u001b[36m\u001b[1m┌ \u001b[22m\u001b[39m\u001b[36m\u001b[1mInfo: \u001b[22m\u001b[39mTime : 2.130 days,\n",
      "\u001b[36m\u001b[1m│ \u001b[22m\u001b[39m                        max(|u|): 0.001395989940581438,\n",
      "\u001b[36m\u001b[1m└ \u001b[22m\u001b[39m                        max(T): 12.499999999997039\n",
      "\u001b[36m\u001b[1m┌ \u001b[22m\u001b[39m\u001b[36m\u001b[1mInfo: \u001b[22m\u001b[39mTime : 2.153 days,\n",
      "\u001b[36m\u001b[1m│ \u001b[22m\u001b[39m                        max(|u|): 0.0013952679586256395,\n",
      "\u001b[36m\u001b[1m└ \u001b[22m\u001b[39m                        max(T): 12.499999999997039\n",
      "\u001b[36m\u001b[1m┌ \u001b[22m\u001b[39m\u001b[36m\u001b[1mInfo: \u001b[22m\u001b[39mTime : 2.176 days,\n",
      "\u001b[36m\u001b[1m│ \u001b[22m\u001b[39m                        max(|u|): 0.0013945459753867428,\n",
      "\u001b[36m\u001b[1m└ \u001b[22m\u001b[39m                        max(T): 12.499999999997039\n",
      "\u001b[36m\u001b[1m┌ \u001b[22m\u001b[39m\u001b[36m\u001b[1mInfo: \u001b[22m\u001b[39mTime : 2.199 days,\n",
      "\u001b[36m\u001b[1m│ \u001b[22m\u001b[39m                        max(|u|): 0.001393823990887686,\n",
      "\u001b[36m\u001b[1m└ \u001b[22m\u001b[39m                        max(T): 12.499999999997039\n",
      "\u001b[36m\u001b[1m┌ \u001b[22m\u001b[39m\u001b[36m\u001b[1mInfo: \u001b[22m\u001b[39mTime : 2.222 days,\n",
      "\u001b[36m\u001b[1m│ \u001b[22m\u001b[39m                        max(|u|): 0.0013931020051509869,\n",
      "\u001b[36m\u001b[1m└ \u001b[22m\u001b[39m                        max(T): 12.499999999997039\n",
      "\u001b[36m\u001b[1m┌ \u001b[22m\u001b[39m\u001b[36m\u001b[1mInfo: \u001b[22m\u001b[39mTime : 2.245 days,\n",
      "\u001b[36m\u001b[1m│ \u001b[22m\u001b[39m                        max(|u|): 0.0013923800181987554,\n",
      "\u001b[36m\u001b[1m└ \u001b[22m\u001b[39m                        max(T): 12.499999999997039\n",
      "\u001b[36m\u001b[1m┌ \u001b[22m\u001b[39m\u001b[36m\u001b[1mInfo: \u001b[22m\u001b[39mTime : 2.269 days,\n",
      "\u001b[36m\u001b[1m│ \u001b[22m\u001b[39m                        max(|u|): 0.0013916580300526971,\n",
      "\u001b[36m\u001b[1m└ \u001b[22m\u001b[39m                        max(T): 12.499999999997039\n",
      "\u001b[36m\u001b[1m┌ \u001b[22m\u001b[39m\u001b[36m\u001b[1mInfo: \u001b[22m\u001b[39mTime : 2.292 days,\n",
      "\u001b[36m\u001b[1m│ \u001b[22m\u001b[39m                        max(|u|): 0.0013909360407341244,\n",
      "\u001b[36m\u001b[1m└ \u001b[22m\u001b[39m                        max(T): 12.499999999997039\n",
      "\u001b[36m\u001b[1m┌ \u001b[22m\u001b[39m\u001b[36m\u001b[1mInfo: \u001b[22m\u001b[39mTime : 2.315 days,\n",
      "\u001b[36m\u001b[1m│ \u001b[22m\u001b[39m                        max(|u|): 0.0013902140502639613,\n",
      "\u001b[36m\u001b[1m└ \u001b[22m\u001b[39m                        max(T): 12.499999999997039\n",
      "\u001b[36m\u001b[1m┌ \u001b[22m\u001b[39m\u001b[36m\u001b[1mInfo: \u001b[22m\u001b[39mTime : 2.338 days,\n",
      "\u001b[36m\u001b[1m│ \u001b[22m\u001b[39m                        max(|u|): 0.0013894920586627532,\n",
      "\u001b[36m\u001b[1m└ \u001b[22m\u001b[39m                        max(T): 12.499999999997039\n",
      "\u001b[36m\u001b[1m┌ \u001b[22m\u001b[39m\u001b[36m\u001b[1mInfo: \u001b[22m\u001b[39mTime : 2.361 days,\n",
      "\u001b[36m\u001b[1m│ \u001b[22m\u001b[39m                        max(|u|): 0.0013887700659506732,\n",
      "\u001b[36m\u001b[1m└ \u001b[22m\u001b[39m                        max(T): 12.499999999997039\n",
      "\u001b[36m\u001b[1m┌ \u001b[22m\u001b[39m\u001b[36m\u001b[1mInfo: \u001b[22m\u001b[39mTime : 2.384 days,\n",
      "\u001b[36m\u001b[1m│ \u001b[22m\u001b[39m                        max(|u|): 0.0013880480721475271,\n",
      "\u001b[36m\u001b[1m└ \u001b[22m\u001b[39m                        max(T): 12.499999999997039\n",
      "\u001b[36m\u001b[1m┌ \u001b[22m\u001b[39m\u001b[36m\u001b[1mInfo: \u001b[22m\u001b[39mTime : 2.407 days,\n",
      "\u001b[36m\u001b[1m│ \u001b[22m\u001b[39m                        max(|u|): 0.001387326077272764,\n",
      "\u001b[36m\u001b[1m└ \u001b[22m\u001b[39m                        max(T): 12.499999999997039\n",
      "\u001b[36m\u001b[1m┌ \u001b[22m\u001b[39m\u001b[36m\u001b[1mInfo: \u001b[22m\u001b[39mTime : 2.431 days,\n",
      "\u001b[36m\u001b[1m│ \u001b[22m\u001b[39m                        max(|u|): 0.0013866040813454794,\n",
      "\u001b[36m\u001b[1m└ \u001b[22m\u001b[39m                        max(T): 12.499999999997039\n",
      "\u001b[36m\u001b[1m┌ \u001b[22m\u001b[39m\u001b[36m\u001b[1mInfo: \u001b[22m\u001b[39mTime : 2.454 days,\n",
      "\u001b[36m\u001b[1m│ \u001b[22m\u001b[39m                        max(|u|): 0.001385882084384424,\n",
      "\u001b[36m\u001b[1m└ \u001b[22m\u001b[39m                        max(T): 12.499999999997039\n",
      "\u001b[36m\u001b[1m┌ \u001b[22m\u001b[39m\u001b[36m\u001b[1mInfo: \u001b[22m\u001b[39mTime : 2.477 days,\n",
      "\u001b[36m\u001b[1m│ \u001b[22m\u001b[39m                        max(|u|): 0.001385160086408008,\n",
      "\u001b[36m\u001b[1m└ \u001b[22m\u001b[39m                        max(T): 12.499999999997039\n",
      "\u001b[36m\u001b[1m┌ \u001b[22m\u001b[39m\u001b[36m\u001b[1mInfo: \u001b[22m\u001b[39mTime : 2.500 days,\n",
      "\u001b[36m\u001b[1m│ \u001b[22m\u001b[39m                        max(|u|): 0.0013844380874343102,\n",
      "\u001b[36m\u001b[1m└ \u001b[22m\u001b[39m                        max(T): 12.499999999997039\n",
      "\u001b[36m\u001b[1m┌ \u001b[22m\u001b[39m\u001b[36m\u001b[1mInfo: \u001b[22m\u001b[39mTime : 2.523 days,\n",
      "\u001b[36m\u001b[1m│ \u001b[22m\u001b[39m                        max(|u|): 0.001383716087481081,\n",
      "\u001b[36m\u001b[1m└ \u001b[22m\u001b[39m                        max(T): 12.499999999997039\n",
      "\u001b[36m\u001b[1m┌ \u001b[22m\u001b[39m\u001b[36m\u001b[1mInfo: \u001b[22m\u001b[39mTime : 2.546 days,\n",
      "\u001b[36m\u001b[1m│ \u001b[22m\u001b[39m                        max(|u|): 0.0013829940865657505,\n",
      "\u001b[36m\u001b[1m└ \u001b[22m\u001b[39m                        max(T): 12.499999999997039\n",
      "\u001b[36m\u001b[1m┌ \u001b[22m\u001b[39m\u001b[36m\u001b[1mInfo: \u001b[22m\u001b[39mTime : 2.569 days,\n",
      "\u001b[36m\u001b[1m│ \u001b[22m\u001b[39m                        max(|u|): 0.0013822720847054331,\n",
      "\u001b[36m\u001b[1m└ \u001b[22m\u001b[39m                        max(T): 12.499999999997039\n",
      "\u001b[36m\u001b[1m┌ \u001b[22m\u001b[39m\u001b[36m\u001b[1mInfo: \u001b[22m\u001b[39mTime : 2.593 days,\n",
      "\u001b[36m\u001b[1m│ \u001b[22m\u001b[39m                        max(|u|): 0.0013815500819169347,\n",
      "\u001b[36m\u001b[1m└ \u001b[22m\u001b[39m                        max(T): 12.499999999997039\n",
      "\u001b[36m\u001b[1m┌ \u001b[22m\u001b[39m\u001b[36m\u001b[1mInfo: \u001b[22m\u001b[39mTime : 2.616 days,\n",
      "\u001b[36m\u001b[1m│ \u001b[22m\u001b[39m                        max(|u|): 0.0013808280782167566,\n",
      "\u001b[36m\u001b[1m└ \u001b[22m\u001b[39m                        max(T): 12.499999999997039\n",
      "\u001b[36m\u001b[1m┌ \u001b[22m\u001b[39m\u001b[36m\u001b[1mInfo: \u001b[22m\u001b[39mTime : 2.639 days,\n",
      "\u001b[36m\u001b[1m│ \u001b[22m\u001b[39m                        max(|u|): 0.0013801060736211017,\n",
      "\u001b[36m\u001b[1m└ \u001b[22m\u001b[39m                        max(T): 12.499999999997039\n",
      "\u001b[36m\u001b[1m┌ \u001b[22m\u001b[39m\u001b[36m\u001b[1mInfo: \u001b[22m\u001b[39mTime : 2.662 days,\n",
      "\u001b[36m\u001b[1m│ \u001b[22m\u001b[39m                        max(|u|): 0.0013793840681458804,\n",
      "\u001b[36m\u001b[1m└ \u001b[22m\u001b[39m                        max(T): 12.499999999997039\n",
      "\u001b[36m\u001b[1m┌ \u001b[22m\u001b[39m\u001b[36m\u001b[1mInfo: \u001b[22m\u001b[39mTime : 2.685 days,\n",
      "\u001b[36m\u001b[1m│ \u001b[22m\u001b[39m                        max(|u|): 0.0013786620618067163,\n",
      "\u001b[36m\u001b[1m└ \u001b[22m\u001b[39m                        max(T): 12.499999999997039\n",
      "\u001b[36m\u001b[1m┌ \u001b[22m\u001b[39m\u001b[36m\u001b[1mInfo: \u001b[22m\u001b[39mTime : 2.708 days,\n",
      "\u001b[36m\u001b[1m│ \u001b[22m\u001b[39m                        max(|u|): 0.0013779400546189485,\n",
      "\u001b[36m\u001b[1m└ \u001b[22m\u001b[39m                        max(T): 12.499999999997039\n",
      "\u001b[36m\u001b[1m┌ \u001b[22m\u001b[39m\u001b[36m\u001b[1mInfo: \u001b[22m\u001b[39mTime : 2.731 days,\n",
      "\u001b[36m\u001b[1m│ \u001b[22m\u001b[39m                        max(|u|): 0.0013772180465976413,\n",
      "\u001b[36m\u001b[1m└ \u001b[22m\u001b[39m                        max(T): 12.499999999997035\n",
      "\u001b[36m\u001b[1m┌ \u001b[22m\u001b[39m\u001b[36m\u001b[1mInfo: \u001b[22m\u001b[39mTime : 2.755 days,\n",
      "\u001b[36m\u001b[1m│ \u001b[22m\u001b[39m                        max(|u|): 0.001376496037757585,\n",
      "\u001b[36m\u001b[1m└ \u001b[22m\u001b[39m                        max(T): 12.499999999996858\n",
      "\u001b[36m\u001b[1m┌ \u001b[22m\u001b[39m\u001b[36m\u001b[1mInfo: \u001b[22m\u001b[39mTime : 2.778 days,\n",
      "\u001b[36m\u001b[1m│ \u001b[22m\u001b[39m                        max(|u|): 0.0013757740281133037,\n",
      "\u001b[36m\u001b[1m└ \u001b[22m\u001b[39m                        max(T): 12.49999999999668\n",
      "\u001b[36m\u001b[1m┌ \u001b[22m\u001b[39m\u001b[36m\u001b[1mInfo: \u001b[22m\u001b[39mTime : 2.801 days,\n",
      "\u001b[36m\u001b[1m│ \u001b[22m\u001b[39m                        max(|u|): 0.0013750520176790584,\n",
      "\u001b[36m\u001b[1m└ \u001b[22m\u001b[39m                        max(T): 12.499999999996502\n",
      "\u001b[36m\u001b[1m┌ \u001b[22m\u001b[39m\u001b[36m\u001b[1mInfo: \u001b[22m\u001b[39mTime : 2.824 days,\n",
      "\u001b[36m\u001b[1m│ \u001b[22m\u001b[39m                        max(|u|): 0.0013743300064688537,\n",
      "\u001b[36m\u001b[1m└ \u001b[22m\u001b[39m                        max(T): 12.499999999996325\n",
      "\u001b[36m\u001b[1m┌ \u001b[22m\u001b[39m\u001b[36m\u001b[1mInfo: \u001b[22m\u001b[39mTime : 2.847 days,\n",
      "\u001b[36m\u001b[1m│ \u001b[22m\u001b[39m                        max(|u|): 0.001373607994496439,\n",
      "\u001b[36m\u001b[1m└ \u001b[22m\u001b[39m                        max(T): 12.499999999996147\n",
      "\u001b[36m\u001b[1m┌ \u001b[22m\u001b[39m\u001b[36m\u001b[1mInfo: \u001b[22m\u001b[39mTime : 2.870 days,\n",
      "\u001b[36m\u001b[1m│ \u001b[22m\u001b[39m                        max(|u|): 0.0013728859817753168,\n",
      "\u001b[36m\u001b[1m└ \u001b[22m\u001b[39m                        max(T): 12.49999999999597\n",
      "\u001b[36m\u001b[1m┌ \u001b[22m\u001b[39m\u001b[36m\u001b[1mInfo: \u001b[22m\u001b[39mTime : 2.894 days,\n",
      "\u001b[36m\u001b[1m│ \u001b[22m\u001b[39m                        max(|u|): 0.0013721639683187444,\n",
      "\u001b[36m\u001b[1m└ \u001b[22m\u001b[39m                        max(T): 12.499999999995792\n",
      "\u001b[36m\u001b[1m┌ \u001b[22m\u001b[39m\u001b[36m\u001b[1mInfo: \u001b[22m\u001b[39mTime : 2.917 days,\n",
      "\u001b[36m\u001b[1m│ \u001b[22m\u001b[39m                        max(|u|): 0.0013714419541397418,\n",
      "\u001b[36m\u001b[1m└ \u001b[22m\u001b[39m                        max(T): 12.499999999995614\n",
      "\u001b[36m\u001b[1m┌ \u001b[22m\u001b[39m\u001b[36m\u001b[1mInfo: \u001b[22m\u001b[39mTime : 2.940 days,\n",
      "\u001b[36m\u001b[1m│ \u001b[22m\u001b[39m                        max(|u|): 0.0013707199392510912,\n",
      "\u001b[36m\u001b[1m└ \u001b[22m\u001b[39m                        max(T): 12.499999999995437\n",
      "\u001b[36m\u001b[1m┌ \u001b[22m\u001b[39m\u001b[36m\u001b[1mInfo: \u001b[22m\u001b[39mTime : 2.963 days,\n",
      "\u001b[36m\u001b[1m│ \u001b[22m\u001b[39m                        max(|u|): 0.001369997923665346,\n",
      "\u001b[36m\u001b[1m└ \u001b[22m\u001b[39m                        max(T): 12.499999999995259\n",
      "\u001b[36m\u001b[1m┌ \u001b[22m\u001b[39m\u001b[36m\u001b[1mInfo: \u001b[22m\u001b[39mTime : 2.986 days,\n",
      "\u001b[36m\u001b[1m│ \u001b[22m\u001b[39m                        max(|u|): 0.0013692759073948312,\n",
      "\u001b[36m\u001b[1m└ \u001b[22m\u001b[39m                        max(T): 12.499999999995081\n",
      "\u001b[36m\u001b[1m[ \u001b[22m\u001b[39m\u001b[36m\u001b[1mInfo: \u001b[22m\u001b[39mSimulation is stopping after running for 11.746 minutes.\n",
      "\u001b[36m\u001b[1m[ \u001b[22m\u001b[39m\u001b[36m\u001b[1mInfo: \u001b[22m\u001b[39mSimulation time 3 days equals or exceeds stop time 3 days.\n"
     ]
    }
   ],
   "source": [
    "run!(simulation)"
   ]
  },
  {
   "cell_type": "code",
   "execution_count": 277,
   "id": "fb90bda8-b8dd-47f9-bbbb-5b10e480e461",
   "metadata": {},
   "outputs": [
    {
     "data": {
      "image/png": "[encoded data removed]",
      "text/html": [
       "<img width=600 height=450 style='object-fit: contain; height: auto;' src=\"data:image/png;base64, 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\"/>"
      ]
     },
     "execution_count": 277,
     "metadata": {},
     "output_type": "execute_result"
    }
   ],
   "source": [
    "heatmap(interior(model.tracers.T, :, :, grid.Nz))"
   ]
  },
  {
   "cell_type": "code",
   "execution_count": 278,
   "id": "8e9c6f71-1285-4c99-821f-5665b4397be3",
   "metadata": {},
   "outputs": [
    {
     "data": {
      "text/plain": [
       "43×54×34×13 FieldTimeSeries{InMemory} located at (Center, Center, Center) of T at test4_snapshots.jld2\n",
       "├── grid: 43×54×34 ImmersedBoundaryGrid{Float64, Bounded, Bounded, Bounded} on CPU with 7×7×7 halo\n",
       "├── indices: (:, :, :)\n",
       "├── time_indexing: Linear()\n",
       "├── backend: InMemory()\n",
       "├── path: test4_snapshots.jld2\n",
       "├── name: T\n",
       "└── data: 57×68×48×13 OffsetArray(::Array{Float64, 4}, -6:50, -6:61, -6:41, 1:13) with eltype Float64 with indices -6:50×-6:61×-6:41×1:13\n",
       "    └── max=12.5, min=0.0, mean=0.531084"
      ]
     },
     "execution_count": 278,
     "metadata": {},
     "output_type": "execute_result"
    }
   ],
   "source": [
    "# Record a video\n",
    "#\n",
    "# (1) Zonal velocity (u)\n",
    "# (2) Meridional velocity (v)\n",
    "# (3) Temperature (T)\n",
    "# (4) Salinity (S)\n",
    "u_series = FieldTimeSeries(\"test4_snapshots.jld2\", \"u\")\n",
    "v_series = FieldTimeSeries(\"test4_snapshots.jld2\", \"v\")\n",
    "T_series = FieldTimeSeries(\"test4_snapshots.jld2\", \"T\")"
   ]
  },
  {
   "cell_type": "code",
   "execution_count": 281,
   "id": "befbd125-28e6-44c2-9177-eb6ef099ed3d",
   "metadata": {},
   "outputs": [
    {
     "name": "stderr",
     "output_type": "stream",
     "text": [
      "\u001b[36m\u001b[1m[ \u001b[22m\u001b[39m\u001b[36m\u001b[1mInfo: \u001b[22m\u001b[39mrecording iteration 1\n",
      "\u001b[36m\u001b[1m[ \u001b[22m\u001b[39m\u001b[36m\u001b[1mInfo: \u001b[22m\u001b[39mrecording iteration 2\n",
      "\u001b[36m\u001b[1m[ \u001b[22m\u001b[39m\u001b[36m\u001b[1mInfo: \u001b[22m\u001b[39mrecording iteration 3\n",
      "\u001b[36m\u001b[1m[ \u001b[22m\u001b[39m\u001b[36m\u001b[1mInfo: \u001b[22m\u001b[39mrecording iteration 4\n",
      "\u001b[36m\u001b[1m[ \u001b[22m\u001b[39m\u001b[36m\u001b[1mInfo: \u001b[22m\u001b[39mrecording iteration 5\n",
      "\u001b[36m\u001b[1m[ \u001b[22m\u001b[39m\u001b[36m\u001b[1mInfo: \u001b[22m\u001b[39mrecording iteration 6\n",
      "\u001b[36m\u001b[1m[ \u001b[22m\u001b[39m\u001b[36m\u001b[1mInfo: \u001b[22m\u001b[39mrecording iteration 7\n",
      "\u001b[36m\u001b[1m[ \u001b[22m\u001b[39m\u001b[36m\u001b[1mInfo: \u001b[22m\u001b[39mrecording iteration 8\n",
      "\u001b[36m\u001b[1m[ \u001b[22m\u001b[39m\u001b[36m\u001b[1mInfo: \u001b[22m\u001b[39mrecording iteration 9\n",
      "\u001b[36m\u001b[1m[ \u001b[22m\u001b[39m\u001b[36m\u001b[1mInfo: \u001b[22m\u001b[39mrecording iteration 10\n",
      "\u001b[36m\u001b[1m[ \u001b[22m\u001b[39m\u001b[36m\u001b[1mInfo: \u001b[22m\u001b[39mrecording iteration 11\n",
      "\u001b[36m\u001b[1m[ \u001b[22m\u001b[39m\u001b[36m\u001b[1mInfo: \u001b[22m\u001b[39mrecording iteration 12\n",
      "\u001b[36m\u001b[1m[ \u001b[22m\u001b[39m\u001b[36m\u001b[1mInfo: \u001b[22m\u001b[39mrecording iteration 13\n"
     ]
    },
    {
     "data": {
      "text/plain": [
       "\"Tyr-sec3days_video4.mp4\""
      ]
     },
     "execution_count": 281,
     "metadata": {},
     "output_type": "execute_result"
    }
   ],
   "source": [
    "iter = Observable(1)\n",
    "\n",
    "u = @lift begin\n",
    "    f = interior(u_series[$iter], :, :, 34)\n",
    "    f[f .== 0] .= NaN\n",
    "    f\n",
    "end\n",
    "T = @lift begin\n",
    "    f = interior(T_series[$iter], :, :, 34)\n",
    "    f[f .== 0] .= NaN\n",
    "    f\n",
    "end\n",
    "usec = @lift begin\n",
    "    f = interior(u_series[$iter], :, 30, :)\n",
    "    f[f .== 0] .= NaN\n",
    "    f\n",
    "end\n",
    "Tsec = @lift begin\n",
    "    f = interior(T_series[$iter], :, 30, :)\n",
    "    f[f .== 0] .= NaN\n",
    "    f\n",
    "end\n",
    "\n",
    "fig = Figure()\n",
    "\n",
    "ax  = Axis(fig[1, 1], title = \"surface zonal velocity ms⁻¹\")\n",
    "hm = heatmap!(u, colormap = :lipari, colorrange=(-0.08, 0))\n",
    "Colorbar(fig[1, 1][1, 2], hm, ticks = 0.0:-0.01:-0.08)\n",
    "\n",
    "ax  = Axis(fig[1, 2], title = \"zonal velocity ms⁻¹\")\n",
    "hm = heatmap!(usec, colormap = :lipari, colorrange=(-0.08, 0))\n",
    "Colorbar(fig[1, 2][1, 2], hm, ticks = 0.0:-0.01:-0.08)\n",
    "\n",
    "ax  = Axis(fig[2, 1], title = \"surface temperature ᵒC\")\n",
    "hm = heatmap!(T, colormap =  Reverse(:Spectral), colorrange=(12.495,12.505))\n",
    "Colorbar(fig[2, 1][1, 2], hm, ticks = 12.495:0.001:12.505)\n",
    "\n",
    "ax  = Axis(fig[2, 2], title = \"temperature ᵒC\")\n",
    "hm = heatmap!(Tsec, colormap = Reverse(:Spectral), colorrange=(4,13))\n",
    "Colorbar(fig[2, 2][1, 2], hm, ticks = 4:1:13)\n",
    "\n",
    "GLMakie.record(fig, \"Tyr-sec3days_video4.mp4\", 1:length(u_series.times); framerate = 5) do i\n",
    "    @info \"recording iteration $i\"\n",
    "    iter[] = i    \n",
    "end"
   ]
  },
  {
   "cell_type": "code",
   "execution_count": null,
   "id": "ee447fc3-81c8-4712-87a7-9a88a3e89e73",
   "metadata": {},
   "outputs": [],
   "source": []
  }
 ],
 "metadata": {
  "kernelspec": {
   "display_name": "Julia 1.10.2",
   "language": "julia",
   "name": "julia-1.10"
  },
  "language_info": {
   "file_extension": ".jl",
   "mimetype": "application/julia",
   "name": "julia",
   "version": "1.10.2"
  }
 },
 "nbformat": 4,
 "nbformat_minor": 5
}
