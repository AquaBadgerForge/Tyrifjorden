{
 "cells": [
  {
   "cell_type": "code",
   "execution_count": 9,
   "id": "2cbdfab4-9207-4f15-b47a-11df787c6732",
   "metadata": {},
   "outputs": [],
   "source": [
    "import pandas as pd\n",
    "import metpy.calc as mpcalc\n",
    "from metpy.units import units"
   ]
  },
  {
   "cell_type": "code",
   "execution_count": 29,
   "id": "22da4aab-d6e8-4829-b460-9964e7b8df24",
   "metadata": {},
   "outputs": [],
   "source": [
    "df = pd.read_csv('wind2023.csv', sep=';', parse_dates=['Time(norwegian mean time)'], dayfirst=True)"
   ]
  },
  {
   "cell_type": "code",
   "execution_count": 31,
   "id": "3941a92e-14ea-41b3-913b-60cda2e8e6d2",
   "metadata": {},
   "outputs": [],
   "source": [
    "df = df.set_index(['Time(norwegian mean time)'])"
   ]
  },
  {
   "cell_type": "code",
   "execution_count": 32,
   "id": "1119b336-c20e-4ce2-9c1a-90b7b820bc71",
   "metadata": {},
   "outputs": [],
   "source": [
    "speed = df['Mean wind speed'].to_numpy() * units['m/s']\n",
    "direction = df['Wind direction'].to_numpy() * units.degrees"
   ]
  },
  {
   "cell_type": "code",
   "execution_count": 33,
   "id": "720a41e8-9828-4fad-80c3-365ef7d426b0",
   "metadata": {},
   "outputs": [],
   "source": [
    "u, v = mpcalc.wind_components(speed, direction)"
   ]
  },
  {
   "cell_type": "code",
   "execution_count": 34,
   "id": "061d9916-af8d-4d51-badf-991be76a964d",
   "metadata": {},
   "outputs": [],
   "source": [
    "df['u'] = u\n",
    "df['v'] = v"
   ]
  },
  {
   "cell_type": "code",
   "execution_count": 46,
   "id": "d6bd4e8c-ff23-467c-bca8-fbb8c23e74d2",
   "metadata": {},
   "outputs": [
    {
     "data": {
      "text/html": [
       "<div>\n",
       "<style scoped>\n",
       "    .dataframe tbody tr th:only-of-type {\n",
       "        vertical-align: middle;\n",
       "    }\n",
       "\n",
       "    .dataframe tbody tr th {\n",
       "        vertical-align: top;\n",
       "    }\n",
       "\n",
       "    .dataframe thead th {\n",
       "        text-align: right;\n",
       "    }\n",
       "</style>\n",
       "<table border=\"1\" class=\"dataframe\">\n",
       "  <thead>\n",
       "    <tr style=\"text-align: right;\">\n",
       "      <th></th>\n",
       "      <th>u</th>\n",
       "      <th>v</th>\n",
       "    </tr>\n",
       "    <tr>\n",
       "      <th>Time(norwegian mean time)</th>\n",
       "      <th></th>\n",
       "      <th></th>\n",
       "    </tr>\n",
       "  </thead>\n",
       "  <tbody>\n",
       "    <tr>\n",
       "      <th>2023-01-01</th>\n",
       "      <td>NaN</td>\n",
       "      <td>NaN</td>\n",
       "    </tr>\n",
       "    <tr>\n",
       "      <th>2023-01-31</th>\n",
       "      <td>0.940456</td>\n",
       "      <td>1.294427</td>\n",
       "    </tr>\n",
       "    <tr>\n",
       "      <th>2023-03-02</th>\n",
       "      <td>-0.610105</td>\n",
       "      <td>-1.370318</td>\n",
       "    </tr>\n",
       "    <tr>\n",
       "      <th>2023-04-01</th>\n",
       "      <td>1.094464</td>\n",
       "      <td>-3.007016</td>\n",
       "    </tr>\n",
       "    <tr>\n",
       "      <th>2023-05-01</th>\n",
       "      <td>-0.782870</td>\n",
       "      <td>1.160653</td>\n",
       "    </tr>\n",
       "    <tr>\n",
       "      <th>2023-05-31</th>\n",
       "      <td>-0.305294</td>\n",
       "      <td>1.570603</td>\n",
       "    </tr>\n",
       "    <tr>\n",
       "      <th>2023-06-30</th>\n",
       "      <td>-1.504926</td>\n",
       "      <td>3.380118</td>\n",
       "    </tr>\n",
       "    <tr>\n",
       "      <th>2023-07-30</th>\n",
       "      <td>-0.228971</td>\n",
       "      <td>1.177953</td>\n",
       "    </tr>\n",
       "    <tr>\n",
       "      <th>2023-08-29</th>\n",
       "      <td>-0.789068</td>\n",
       "      <td>-1.617829</td>\n",
       "    </tr>\n",
       "    <tr>\n",
       "      <th>2023-09-28</th>\n",
       "      <td>-0.104587</td>\n",
       "      <td>-1.195434</td>\n",
       "    </tr>\n",
       "    <tr>\n",
       "      <th>2023-10-28</th>\n",
       "      <td>0.891996</td>\n",
       "      <td>-1.677600</td>\n",
       "    </tr>\n",
       "    <tr>\n",
       "      <th>2023-11-27</th>\n",
       "      <td>1.250000</td>\n",
       "      <td>-2.165064</td>\n",
       "    </tr>\n",
       "    <tr>\n",
       "      <th>2023-12-27</th>\n",
       "      <td>1.316572</td>\n",
       "      <td>-2.583919</td>\n",
       "    </tr>\n",
       "  </tbody>\n",
       "</table>\n",
       "</div>"
      ],
      "text/plain": [
       "                                  u         v\n",
       "Time(norwegian mean time)                    \n",
       "2023-01-01                      NaN       NaN\n",
       "2023-01-31                 0.940456  1.294427\n",
       "2023-03-02                -0.610105 -1.370318\n",
       "2023-04-01                 1.094464 -3.007016\n",
       "2023-05-01                -0.782870  1.160653\n",
       "2023-05-31                -0.305294  1.570603\n",
       "2023-06-30                -1.504926  3.380118\n",
       "2023-07-30                -0.228971  1.177953\n",
       "2023-08-29                -0.789068 -1.617829\n",
       "2023-09-28                -0.104587 -1.195434\n",
       "2023-10-28                 0.891996 -1.677600\n",
       "2023-11-27                 1.250000 -2.165064\n",
       "2023-12-27                 1.316572 -2.583919"
      ]
     },
     "execution_count": 46,
     "metadata": {},
     "output_type": "execute_result"
    }
   ],
   "source": [
    "df[['u', 'v']].resample('30d').interpolate()"
   ]
  },
  {
   "cell_type": "code",
   "execution_count": 38,
   "id": "6364eedc-cf59-46ae-a88d-de2d789936f7",
   "metadata": {},
   "outputs": [],
   "source": [
    "df_hourly = df[['u', 'v']].resample('1H').interpolate()"
   ]
  },
  {
   "cell_type": "code",
   "execution_count": 44,
   "id": "28ad0b11-7059-41c5-92d8-30c0bde385a4",
   "metadata": {},
   "outputs": [],
   "source": [
    "df_hourly['2023-01-01 01:00:00':'2024-01-01 00:00:00'].to_csv('wind2023_1h.csv')"
   ]
  },
  {
   "cell_type": "code",
   "execution_count": 41,
   "id": "b5b7a3ee-5357-4dfa-aa1c-432ccfaed9c3",
   "metadata": {},
   "outputs": [],
   "source": [
    "df_6h = df[['u', 'v']].resample('6H').mean()"
   ]
  },
  {
   "cell_type": "code",
   "execution_count": 45,
   "id": "455af969-91ee-47a4-8915-dfd523c72731",
   "metadata": {},
   "outputs": [],
   "source": [
    "df_6h['2023-01-01 01:00:00':'2024-01-01 00:00:00'].to_csv('wind2023_6h.csv')"
   ]
  },
  {
   "cell_type": "code",
   "execution_count": null,
   "id": "c3559446-bb57-4c41-becc-9e425ab629a6",
   "metadata": {},
   "outputs": [],
   "source": []
  }
 ],
 "metadata": {
  "kernelspec": {
   "display_name": "Python 3 (ipykernel)",
   "language": "python",
   "name": "python3"
  },
  "language_info": {
   "codemirror_mode": {
    "name": "ipython",
    "version": 3
   },
   "file_extension": ".py",
   "mimetype": "text/x-python",
   "name": "python",
   "nbconvert_exporter": "python",
   "pygments_lexer": "ipython3",
   "version": "3.10.13"
  }
 },
 "nbformat": 4,
 "nbformat_minor": 5
}
